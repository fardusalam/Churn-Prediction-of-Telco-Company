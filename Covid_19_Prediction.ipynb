{
 "cells": [
  {
   "attachments": {},
   "cell_type": "markdown",
   "metadata": {},
   "source": [
    "## Importing Libraries"
   ]
  },
  {
   "cell_type": "code",
   "execution_count": 1,
   "metadata": {},
   "outputs": [],
   "source": [
    "import pandas as pd   \n",
    "import matplotlib.pyplot as plt\n",
    "import plotly.express as px\n",
    "import time\n",
    "import numpy as np\n",
    "import warnings\n",
    "\n",
    "from sklearn.linear_model import LogisticRegression \n",
    "from sklearn.tree import DecisionTreeClassifier\n",
    "from sklearn.naive_bayes import MultinomialNB\n",
    "from sklearn.ensemble import RandomForestClassifier, GradientBoostingClassifier\n",
    "from sklearn.svm import SVC\n",
    "from sklearn.naive_bayes import GaussianNB\n",
    "from xgboost import XGBClassifier\n",
    "from sklearn.ensemble import VotingClassifier\n",
    "from sklearn.neighbors import KNeighborsClassifier\n",
    "from sklearn.feature_selection import RFE,SelectFromModel\n",
    "\n",
    "\n",
    "from sklearn.model_selection import train_test_split, RepeatedKFold, GridSearchCV, cross_val_score\n",
    "from sklearn.metrics import roc_curve, roc_auc_score\n",
    "from sklearn.metrics import confusion_matrix\n",
    "from sklearn.metrics import recall_score\n",
    "from sklearn.metrics import precision_score\n",
    "from sklearn.metrics import classification_report\n",
    "from sklearn.feature_selection import mutual_info_classif\n",
    "from sklearn.feature_selection import SelectKBest\n",
    "from sklearn.metrics import ConfusionMatrixDisplay\n",
    "from sklearn.model_selection import cross_val_predict\n",
    "from sklearn.metrics import confusion_matrix\n",
    "\n",
    "from sklearn.metrics import accuracy_score\n",
    "from sklearn.metrics import plot_confusion_matrix\n",
    "from sklearn.model_selection import KFold, cross_val_score\n",
    "\n",
    "from sklearn.pipeline import Pipeline\n",
    "from matplotlib import pyplot\n",
    "# the permutation based importance\n",
    "import seaborn as sns\n",
    "from sklearn.inspection import permutation_importance\n",
    "\n",
    "from numpy import mean\n",
    "import warnings\n",
    "warnings.filterwarnings(\"ignore\") "
   ]
  },
  {
   "attachments": {},
   "cell_type": "markdown",
   "metadata": {},
   "source": [
    "## Loading Dataset"
   ]
  },
  {
   "cell_type": "code",
   "execution_count": 2,
   "metadata": {},
   "outputs": [
    {
     "data": {
      "text/plain": [
       "(278848, 10)"
      ]
     },
     "execution_count": 2,
     "metadata": {},
     "output_type": "execute_result"
    }
   ],
   "source": [
    "# Importing Dataset using Pandas.\n",
    "data = pd.read_csv(\"Covid_19_Dataset.csv\")\n",
    "data.shape  "
   ]
  },
  {
   "cell_type": "code",
   "execution_count": 3,
   "metadata": {},
   "outputs": [
    {
     "data": {
      "text/html": [
       "<div>\n",
       "<style scoped>\n",
       "    .dataframe tbody tr th:only-of-type {\n",
       "        vertical-align: middle;\n",
       "    }\n",
       "\n",
       "    .dataframe tbody tr th {\n",
       "        vertical-align: top;\n",
       "    }\n",
       "\n",
       "    .dataframe thead th {\n",
       "        text-align: right;\n",
       "    }\n",
       "</style>\n",
       "<table border=\"1\" class=\"dataframe\">\n",
       "  <thead>\n",
       "    <tr style=\"text-align: right;\">\n",
       "      <th></th>\n",
       "      <th>test_date</th>\n",
       "      <th>cough</th>\n",
       "      <th>fever</th>\n",
       "      <th>sore_throat</th>\n",
       "      <th>shortness_of_breath</th>\n",
       "      <th>head_ache</th>\n",
       "      <th>corona_result</th>\n",
       "      <th>age_60_and_above</th>\n",
       "      <th>gender</th>\n",
       "      <th>test_indication</th>\n",
       "    </tr>\n",
       "  </thead>\n",
       "  <tbody>\n",
       "    <tr>\n",
       "      <th>0</th>\n",
       "      <td>2020-04-30</td>\n",
       "      <td>0</td>\n",
       "      <td>0</td>\n",
       "      <td>0</td>\n",
       "      <td>0</td>\n",
       "      <td>0</td>\n",
       "      <td>negative</td>\n",
       "      <td>None</td>\n",
       "      <td>female</td>\n",
       "      <td>Other</td>\n",
       "    </tr>\n",
       "    <tr>\n",
       "      <th>1</th>\n",
       "      <td>2020-04-30</td>\n",
       "      <td>1</td>\n",
       "      <td>0</td>\n",
       "      <td>0</td>\n",
       "      <td>0</td>\n",
       "      <td>0</td>\n",
       "      <td>negative</td>\n",
       "      <td>None</td>\n",
       "      <td>female</td>\n",
       "      <td>Other</td>\n",
       "    </tr>\n",
       "    <tr>\n",
       "      <th>2</th>\n",
       "      <td>2020-04-30</td>\n",
       "      <td>0</td>\n",
       "      <td>1</td>\n",
       "      <td>0</td>\n",
       "      <td>0</td>\n",
       "      <td>0</td>\n",
       "      <td>negative</td>\n",
       "      <td>None</td>\n",
       "      <td>male</td>\n",
       "      <td>Other</td>\n",
       "    </tr>\n",
       "    <tr>\n",
       "      <th>3</th>\n",
       "      <td>2020-04-30</td>\n",
       "      <td>1</td>\n",
       "      <td>0</td>\n",
       "      <td>0</td>\n",
       "      <td>0</td>\n",
       "      <td>0</td>\n",
       "      <td>negative</td>\n",
       "      <td>None</td>\n",
       "      <td>female</td>\n",
       "      <td>Other</td>\n",
       "    </tr>\n",
       "    <tr>\n",
       "      <th>4</th>\n",
       "      <td>2020-04-30</td>\n",
       "      <td>1</td>\n",
       "      <td>0</td>\n",
       "      <td>0</td>\n",
       "      <td>0</td>\n",
       "      <td>0</td>\n",
       "      <td>negative</td>\n",
       "      <td>None</td>\n",
       "      <td>male</td>\n",
       "      <td>Other</td>\n",
       "    </tr>\n",
       "    <tr>\n",
       "      <th>5</th>\n",
       "      <td>2020-04-30</td>\n",
       "      <td>1</td>\n",
       "      <td>0</td>\n",
       "      <td>0</td>\n",
       "      <td>0</td>\n",
       "      <td>0</td>\n",
       "      <td>negative</td>\n",
       "      <td>None</td>\n",
       "      <td>female</td>\n",
       "      <td>Other</td>\n",
       "    </tr>\n",
       "    <tr>\n",
       "      <th>6</th>\n",
       "      <td>2020-04-30</td>\n",
       "      <td>1</td>\n",
       "      <td>1</td>\n",
       "      <td>0</td>\n",
       "      <td>0</td>\n",
       "      <td>0</td>\n",
       "      <td>negative</td>\n",
       "      <td>None</td>\n",
       "      <td>male</td>\n",
       "      <td>Abroad</td>\n",
       "    </tr>\n",
       "    <tr>\n",
       "      <th>7</th>\n",
       "      <td>2020-04-30</td>\n",
       "      <td>0</td>\n",
       "      <td>0</td>\n",
       "      <td>0</td>\n",
       "      <td>0</td>\n",
       "      <td>0</td>\n",
       "      <td>negative</td>\n",
       "      <td>None</td>\n",
       "      <td>female</td>\n",
       "      <td>Other</td>\n",
       "    </tr>\n",
       "    <tr>\n",
       "      <th>8</th>\n",
       "      <td>2020-04-30</td>\n",
       "      <td>0</td>\n",
       "      <td>0</td>\n",
       "      <td>0</td>\n",
       "      <td>0</td>\n",
       "      <td>0</td>\n",
       "      <td>negative</td>\n",
       "      <td>None</td>\n",
       "      <td>male</td>\n",
       "      <td>Other</td>\n",
       "    </tr>\n",
       "    <tr>\n",
       "      <th>9</th>\n",
       "      <td>2020-04-30</td>\n",
       "      <td>0</td>\n",
       "      <td>0</td>\n",
       "      <td>0</td>\n",
       "      <td>0</td>\n",
       "      <td>0</td>\n",
       "      <td>negative</td>\n",
       "      <td>None</td>\n",
       "      <td>male</td>\n",
       "      <td>Contact with confirmed</td>\n",
       "    </tr>\n",
       "  </tbody>\n",
       "</table>\n",
       "</div>"
      ],
      "text/plain": [
       "    test_date cough fever sore_throat shortness_of_breath head_ache  \\\n",
       "0  2020-04-30     0     0           0                   0         0   \n",
       "1  2020-04-30     1     0           0                   0         0   \n",
       "2  2020-04-30     0     1           0                   0         0   \n",
       "3  2020-04-30     1     0           0                   0         0   \n",
       "4  2020-04-30     1     0           0                   0         0   \n",
       "5  2020-04-30     1     0           0                   0         0   \n",
       "6  2020-04-30     1     1           0                   0         0   \n",
       "7  2020-04-30     0     0           0                   0         0   \n",
       "8  2020-04-30     0     0           0                   0         0   \n",
       "9  2020-04-30     0     0           0                   0         0   \n",
       "\n",
       "  corona_result age_60_and_above  gender         test_indication  \n",
       "0      negative             None  female                   Other  \n",
       "1      negative             None  female                   Other  \n",
       "2      negative             None    male                   Other  \n",
       "3      negative             None  female                   Other  \n",
       "4      negative             None    male                   Other  \n",
       "5      negative             None  female                   Other  \n",
       "6      negative             None    male                  Abroad  \n",
       "7      negative             None  female                   Other  \n",
       "8      negative             None    male                   Other  \n",
       "9      negative             None    male  Contact with confirmed  "
      ]
     },
     "execution_count": 3,
     "metadata": {},
     "output_type": "execute_result"
    }
   ],
   "source": [
    "data.head(10)"
   ]
  },
  {
   "cell_type": "code",
   "execution_count": 4,
   "metadata": {},
   "outputs": [
    {
     "data": {
      "text/plain": [
       "negative    260227\n",
       "positive     14729\n",
       "other         3892\n",
       "Name: corona_result, dtype: int64"
      ]
     },
     "execution_count": 4,
     "metadata": {},
     "output_type": "execute_result"
    }
   ],
   "source": [
    "# Distribution of Target Variable.\n",
    "dictribution = data[\"corona_result\"].value_counts()\n",
    "dictribution"
   ]
  },
  {
   "attachments": {},
   "cell_type": "markdown",
   "metadata": {},
   "source": [
    "## Data Preprocessing"
   ]
  },
  {
   "cell_type": "code",
   "execution_count": 5,
   "metadata": {},
   "outputs": [
    {
     "name": "stdout",
     "output_type": "stream",
     "text": [
      "Length of Dataset:  278848\n",
      "Number of Attributes:  10\n"
     ]
    }
   ],
   "source": [
    "# Checking Shape of the dataset.\n",
    "print('Length of Dataset: ', data.shape[0])\n",
    "print('Number of Attributes: ', data.shape[1])"
   ]
  },
  {
   "cell_type": "code",
   "execution_count": 6,
   "metadata": {},
   "outputs": [
    {
     "data": {
      "text/plain": [
       "test_date              object\n",
       "cough                  object\n",
       "fever                  object\n",
       "sore_throat            object\n",
       "shortness_of_breath    object\n",
       "head_ache              object\n",
       "corona_result          object\n",
       "age_60_and_above       object\n",
       "gender                 object\n",
       "test_indication        object\n",
       "dtype: object"
      ]
     },
     "execution_count": 6,
     "metadata": {},
     "output_type": "execute_result"
    }
   ],
   "source": [
    "# Checking Data Types of every column.\n",
    "data.dtypes"
   ]
  },
  {
   "cell_type": "code",
   "execution_count": 7,
   "metadata": {},
   "outputs": [
    {
     "data": {
      "text/html": [
       "<div>\n",
       "<style scoped>\n",
       "    .dataframe tbody tr th:only-of-type {\n",
       "        vertical-align: middle;\n",
       "    }\n",
       "\n",
       "    .dataframe tbody tr th {\n",
       "        vertical-align: top;\n",
       "    }\n",
       "\n",
       "    .dataframe thead th {\n",
       "        text-align: right;\n",
       "    }\n",
       "</style>\n",
       "<table border=\"1\" class=\"dataframe\">\n",
       "  <thead>\n",
       "    <tr style=\"text-align: right;\">\n",
       "      <th></th>\n",
       "      <th>test_date</th>\n",
       "      <th>cough</th>\n",
       "      <th>fever</th>\n",
       "      <th>sore_throat</th>\n",
       "      <th>shortness_of_breath</th>\n",
       "      <th>head_ache</th>\n",
       "      <th>corona_result</th>\n",
       "      <th>age_60_and_above</th>\n",
       "      <th>gender</th>\n",
       "      <th>test_indication</th>\n",
       "    </tr>\n",
       "  </thead>\n",
       "  <tbody>\n",
       "    <tr>\n",
       "      <th>count</th>\n",
       "      <td>278848</td>\n",
       "      <td>278848</td>\n",
       "      <td>278848</td>\n",
       "      <td>278848</td>\n",
       "      <td>278848</td>\n",
       "      <td>278848</td>\n",
       "      <td>278848</td>\n",
       "      <td>278848</td>\n",
       "      <td>278848</td>\n",
       "      <td>278848</td>\n",
       "    </tr>\n",
       "    <tr>\n",
       "      <th>unique</th>\n",
       "      <td>51</td>\n",
       "      <td>5</td>\n",
       "      <td>5</td>\n",
       "      <td>5</td>\n",
       "      <td>5</td>\n",
       "      <td>5</td>\n",
       "      <td>3</td>\n",
       "      <td>3</td>\n",
       "      <td>3</td>\n",
       "      <td>3</td>\n",
       "    </tr>\n",
       "    <tr>\n",
       "      <th>top</th>\n",
       "      <td>2020-04-20</td>\n",
       "      <td>0</td>\n",
       "      <td>0</td>\n",
       "      <td>0</td>\n",
       "      <td>0</td>\n",
       "      <td>0</td>\n",
       "      <td>negative</td>\n",
       "      <td>None</td>\n",
       "      <td>female</td>\n",
       "      <td>Other</td>\n",
       "    </tr>\n",
       "    <tr>\n",
       "      <th>freq</th>\n",
       "      <td>10921</td>\n",
       "      <td>121649</td>\n",
       "      <td>133942</td>\n",
       "      <td>260664</td>\n",
       "      <td>261079</td>\n",
       "      <td>260079</td>\n",
       "      <td>260227</td>\n",
       "      <td>127320</td>\n",
       "      <td>130158</td>\n",
       "      <td>242741</td>\n",
       "    </tr>\n",
       "  </tbody>\n",
       "</table>\n",
       "</div>"
      ],
      "text/plain": [
       "         test_date   cough   fever  sore_throat  shortness_of_breath  \\\n",
       "count       278848  278848  278848       278848               278848   \n",
       "unique          51       5       5            5                    5   \n",
       "top     2020-04-20       0       0            0                    0   \n",
       "freq         10921  121649  133942       260664               261079   \n",
       "\n",
       "        head_ache corona_result age_60_and_above  gender test_indication  \n",
       "count      278848        278848           278848  278848          278848  \n",
       "unique          5             3                3       3               3  \n",
       "top             0      negative             None  female           Other  \n",
       "freq       260079        260227           127320  130158          242741  "
      ]
     },
     "execution_count": 7,
     "metadata": {},
     "output_type": "execute_result"
    }
   ],
   "source": [
    "data.describe()"
   ]
  },
  {
   "cell_type": "code",
   "execution_count": 8,
   "metadata": {},
   "outputs": [
    {
     "data": {
      "text/plain": [
       "test_date              0\n",
       "cough                  0\n",
       "fever                  0\n",
       "sore_throat            0\n",
       "shortness_of_breath    0\n",
       "head_ache              0\n",
       "corona_result          0\n",
       "age_60_and_above       0\n",
       "gender                 0\n",
       "test_indication        0\n",
       "dtype: int64"
      ]
     },
     "execution_count": 8,
     "metadata": {},
     "output_type": "execute_result"
    }
   ],
   "source": [
    "# Checking Null values in all features.\n",
    "data.isnull().sum()"
   ]
  },
  {
   "cell_type": "code",
   "execution_count": 9,
   "metadata": {},
   "outputs": [],
   "source": [
    "# Dropping Unnecessary Column.\n",
    "data.drop('test_date',axis=1,inplace=True)"
   ]
  },
  {
   "cell_type": "code",
   "execution_count": 10,
   "metadata": {},
   "outputs": [
    {
     "data": {
      "text/html": [
       "<div>\n",
       "<style scoped>\n",
       "    .dataframe tbody tr th:only-of-type {\n",
       "        vertical-align: middle;\n",
       "    }\n",
       "\n",
       "    .dataframe tbody tr th {\n",
       "        vertical-align: top;\n",
       "    }\n",
       "\n",
       "    .dataframe thead th {\n",
       "        text-align: right;\n",
       "    }\n",
       "</style>\n",
       "<table border=\"1\" class=\"dataframe\">\n",
       "  <thead>\n",
       "    <tr style=\"text-align: right;\">\n",
       "      <th></th>\n",
       "      <th>cough</th>\n",
       "      <th>fever</th>\n",
       "      <th>sore_throat</th>\n",
       "      <th>shortness_of_breath</th>\n",
       "      <th>head_ache</th>\n",
       "      <th>corona_result</th>\n",
       "      <th>age_60_and_above</th>\n",
       "      <th>gender</th>\n",
       "      <th>test_indication</th>\n",
       "    </tr>\n",
       "  </thead>\n",
       "  <tbody>\n",
       "    <tr>\n",
       "      <th>0</th>\n",
       "      <td>0</td>\n",
       "      <td>0</td>\n",
       "      <td>0</td>\n",
       "      <td>0</td>\n",
       "      <td>0</td>\n",
       "      <td>negative</td>\n",
       "      <td>None</td>\n",
       "      <td>female</td>\n",
       "      <td>Other</td>\n",
       "    </tr>\n",
       "    <tr>\n",
       "      <th>1</th>\n",
       "      <td>1</td>\n",
       "      <td>0</td>\n",
       "      <td>0</td>\n",
       "      <td>0</td>\n",
       "      <td>0</td>\n",
       "      <td>negative</td>\n",
       "      <td>None</td>\n",
       "      <td>female</td>\n",
       "      <td>Other</td>\n",
       "    </tr>\n",
       "    <tr>\n",
       "      <th>2</th>\n",
       "      <td>0</td>\n",
       "      <td>1</td>\n",
       "      <td>0</td>\n",
       "      <td>0</td>\n",
       "      <td>0</td>\n",
       "      <td>negative</td>\n",
       "      <td>None</td>\n",
       "      <td>male</td>\n",
       "      <td>Other</td>\n",
       "    </tr>\n",
       "    <tr>\n",
       "      <th>3</th>\n",
       "      <td>1</td>\n",
       "      <td>0</td>\n",
       "      <td>0</td>\n",
       "      <td>0</td>\n",
       "      <td>0</td>\n",
       "      <td>negative</td>\n",
       "      <td>None</td>\n",
       "      <td>female</td>\n",
       "      <td>Other</td>\n",
       "    </tr>\n",
       "    <tr>\n",
       "      <th>4</th>\n",
       "      <td>1</td>\n",
       "      <td>0</td>\n",
       "      <td>0</td>\n",
       "      <td>0</td>\n",
       "      <td>0</td>\n",
       "      <td>negative</td>\n",
       "      <td>None</td>\n",
       "      <td>male</td>\n",
       "      <td>Other</td>\n",
       "    </tr>\n",
       "  </tbody>\n",
       "</table>\n",
       "</div>"
      ],
      "text/plain": [
       "  cough fever sore_throat shortness_of_breath head_ache corona_result  \\\n",
       "0     0     0           0                   0         0      negative   \n",
       "1     1     0           0                   0         0      negative   \n",
       "2     0     1           0                   0         0      negative   \n",
       "3     1     0           0                   0         0      negative   \n",
       "4     1     0           0                   0         0      negative   \n",
       "\n",
       "  age_60_and_above  gender test_indication  \n",
       "0             None  female           Other  \n",
       "1             None  female           Other  \n",
       "2             None    male           Other  \n",
       "3             None  female           Other  \n",
       "4             None    male           Other  "
      ]
     },
     "execution_count": 10,
     "metadata": {},
     "output_type": "execute_result"
    }
   ],
   "source": [
    "data.head()"
   ]
  },
  {
   "cell_type": "code",
   "execution_count": 11,
   "metadata": {},
   "outputs": [
    {
     "data": {
      "text/plain": [
       "array([0, 1, '0', '1', 'None'], dtype=object)"
      ]
     },
     "execution_count": 11,
     "metadata": {},
     "output_type": "execute_result"
    }
   ],
   "source": [
    "data['cough'].unique()"
   ]
  },
  {
   "cell_type": "code",
   "execution_count": 12,
   "metadata": {},
   "outputs": [
    {
     "data": {
      "text/plain": [
       "array([0, 1], dtype=int64)"
      ]
     },
     "execution_count": 12,
     "metadata": {},
     "output_type": "execute_result"
    }
   ],
   "source": [
    "data['cough'] = data['cough'].replace(r'0', 0)\n",
    "data['cough'] = data['cough'].replace(r'1', 1)\n",
    "data['cough'] = data['cough'].replace(r'None', 0)\n",
    "data['cough'].unique()"
   ]
  },
  {
   "cell_type": "code",
   "execution_count": 13,
   "metadata": {},
   "outputs": [
    {
     "data": {
      "text/plain": [
       "array([0, 1, '0', '1', 'None'], dtype=object)"
      ]
     },
     "execution_count": 13,
     "metadata": {},
     "output_type": "execute_result"
    }
   ],
   "source": [
    "data['fever'].unique()"
   ]
  },
  {
   "cell_type": "code",
   "execution_count": 14,
   "metadata": {},
   "outputs": [
    {
     "data": {
      "text/plain": [
       "array([0, 1], dtype=int64)"
      ]
     },
     "execution_count": 14,
     "metadata": {},
     "output_type": "execute_result"
    }
   ],
   "source": [
    "data['fever'] = data['fever'].replace(r'0', 0)\n",
    "data['fever'] = data['fever'].replace(r'None', 0)\n",
    "data['fever'] = data['fever'].replace(r'1', 1)\n",
    "data['fever'].unique()"
   ]
  },
  {
   "cell_type": "code",
   "execution_count": 15,
   "metadata": {},
   "outputs": [
    {
     "data": {
      "text/plain": [
       "array([0, 1, '0', '1', 'None'], dtype=object)"
      ]
     },
     "execution_count": 15,
     "metadata": {},
     "output_type": "execute_result"
    }
   ],
   "source": [
    "data['sore_throat'].unique()"
   ]
  },
  {
   "cell_type": "code",
   "execution_count": 16,
   "metadata": {},
   "outputs": [
    {
     "data": {
      "text/plain": [
       "array([0, 1], dtype=int64)"
      ]
     },
     "execution_count": 16,
     "metadata": {},
     "output_type": "execute_result"
    }
   ],
   "source": [
    "data['sore_throat'] = data['sore_throat'].replace(r'0', 0)\n",
    "data['sore_throat'] = data['sore_throat'].replace(r'None', 0)\n",
    "data['sore_throat'] = data['sore_throat'].replace(r'1', 1)\n",
    "data['sore_throat'].unique()"
   ]
  },
  {
   "cell_type": "code",
   "execution_count": 17,
   "metadata": {},
   "outputs": [
    {
     "data": {
      "text/plain": [
       "array([0, 1, '0', '1', 'None'], dtype=object)"
      ]
     },
     "execution_count": 17,
     "metadata": {},
     "output_type": "execute_result"
    }
   ],
   "source": [
    "data['shortness_of_breath'].unique()"
   ]
  },
  {
   "cell_type": "code",
   "execution_count": 18,
   "metadata": {},
   "outputs": [
    {
     "data": {
      "text/plain": [
       "array([0, 1], dtype=int64)"
      ]
     },
     "execution_count": 18,
     "metadata": {},
     "output_type": "execute_result"
    }
   ],
   "source": [
    "data['shortness_of_breath'] = data['shortness_of_breath'].replace(r'0', 0)\n",
    "data['shortness_of_breath'] = data['shortness_of_breath'].replace(r'None', 0)\n",
    "data['shortness_of_breath'] = data['shortness_of_breath'].replace(r'1', 1)\n",
    "data['shortness_of_breath'].unique()"
   ]
  },
  {
   "cell_type": "code",
   "execution_count": 19,
   "metadata": {},
   "outputs": [
    {
     "data": {
      "text/plain": [
       "array([0, 1, '0', '1', 'None'], dtype=object)"
      ]
     },
     "execution_count": 19,
     "metadata": {},
     "output_type": "execute_result"
    }
   ],
   "source": [
    "data['head_ache'].unique()"
   ]
  },
  {
   "cell_type": "code",
   "execution_count": 20,
   "metadata": {},
   "outputs": [
    {
     "data": {
      "text/plain": [
       "array([0, 1], dtype=int64)"
      ]
     },
     "execution_count": 20,
     "metadata": {},
     "output_type": "execute_result"
    }
   ],
   "source": [
    "data['head_ache'] = data['head_ache'].replace(r'0', 0)\n",
    "data['head_ache'] = data['head_ache'].replace(r'None', 0)\n",
    "data['head_ache'] = data['head_ache'].replace(r'1', 1)\n",
    "data['head_ache'].unique()"
   ]
  },
  {
   "cell_type": "code",
   "execution_count": 21,
   "metadata": {},
   "outputs": [],
   "source": [
    "# now converting string columns into numeric after removing punctuations.\n",
    "data['cough'] = pd.to_numeric(data['cough'])\n",
    "data['fever'] = pd.to_numeric(data['fever'])\n",
    "data['sore_throat'] = pd.to_numeric(data['sore_throat'])\n",
    "data['shortness_of_breath'] = pd.to_numeric(data['shortness_of_breath'])\n",
    "data['head_ache'] = pd.to_numeric(data['head_ache'])"
   ]
  },
  {
   "cell_type": "code",
   "execution_count": 22,
   "metadata": {},
   "outputs": [
    {
     "data": {
      "text/plain": [
       "cough                   int64\n",
       "fever                   int64\n",
       "sore_throat             int64\n",
       "shortness_of_breath     int64\n",
       "head_ache               int64\n",
       "corona_result          object\n",
       "age_60_and_above       object\n",
       "gender                 object\n",
       "test_indication        object\n",
       "dtype: object"
      ]
     },
     "execution_count": 22,
     "metadata": {},
     "output_type": "execute_result"
    }
   ],
   "source": [
    "data.dtypes"
   ]
  },
  {
   "cell_type": "code",
   "execution_count": 23,
   "metadata": {},
   "outputs": [
    {
     "data": {
      "text/plain": [
       "array(['negative', 'positive', 'other'], dtype=object)"
      ]
     },
     "execution_count": 23,
     "metadata": {},
     "output_type": "execute_result"
    }
   ],
   "source": [
    "data['corona_result'].unique()"
   ]
  },
  {
   "cell_type": "code",
   "execution_count": 24,
   "metadata": {},
   "outputs": [],
   "source": [
    "data['corona_result'] = data['corona_result'].map({'negative': 0, 'positive': 1, 'other' : 2})\n",
    "data['corona_result'] = pd.to_numeric(data['corona_result'])"
   ]
  },
  {
   "cell_type": "code",
   "execution_count": 25,
   "metadata": {},
   "outputs": [
    {
     "data": {
      "text/plain": [
       "array(['None', 'Yes', 'No'], dtype=object)"
      ]
     },
     "execution_count": 25,
     "metadata": {},
     "output_type": "execute_result"
    }
   ],
   "source": [
    "data['age_60_and_above'].unique()"
   ]
  },
  {
   "cell_type": "code",
   "execution_count": 26,
   "metadata": {},
   "outputs": [],
   "source": [
    "data['age_60_and_above'] = data['age_60_and_above'].map({'No': 0, 'Yes': 1, 'None' : 0})\n",
    "data['age_60_and_above'] = pd.to_numeric(data['age_60_and_above'])"
   ]
  },
  {
   "cell_type": "code",
   "execution_count": 27,
   "metadata": {},
   "outputs": [
    {
     "data": {
      "text/plain": [
       "array(['female', 'male', 'None'], dtype=object)"
      ]
     },
     "execution_count": 27,
     "metadata": {},
     "output_type": "execute_result"
    }
   ],
   "source": [
    "data['gender'].unique()"
   ]
  },
  {
   "cell_type": "code",
   "execution_count": 28,
   "metadata": {},
   "outputs": [],
   "source": [
    "data['gender'] = data['gender'].map({'female': 0, 'male': 1, 'None' : 3})\n",
    "data['gender'] = pd.to_numeric(data['gender'])"
   ]
  },
  {
   "cell_type": "code",
   "execution_count": 29,
   "metadata": {},
   "outputs": [
    {
     "data": {
      "text/plain": [
       "array([0, 1, 3], dtype=int64)"
      ]
     },
     "execution_count": 29,
     "metadata": {},
     "output_type": "execute_result"
    }
   ],
   "source": [
    "data['gender'].unique()"
   ]
  },
  {
   "cell_type": "code",
   "execution_count": 30,
   "metadata": {},
   "outputs": [
    {
     "data": {
      "text/plain": [
       "array(['Other', 'Abroad', 'Contact with confirmed'], dtype=object)"
      ]
     },
     "execution_count": 30,
     "metadata": {},
     "output_type": "execute_result"
    }
   ],
   "source": [
    "data['test_indication'].unique()"
   ]
  },
  {
   "cell_type": "code",
   "execution_count": 31,
   "metadata": {},
   "outputs": [],
   "source": [
    "data['test_indication'] = data['test_indication'].map({'Other': 0, 'Abroad': 1, 'Contact with confirmed' : 2})\n",
    "data['test_indication'] = pd.to_numeric(data['test_indication'])"
   ]
  },
  {
   "cell_type": "code",
   "execution_count": 32,
   "metadata": {},
   "outputs": [
    {
     "data": {
      "text/plain": [
       "cough                  int64\n",
       "fever                  int64\n",
       "sore_throat            int64\n",
       "shortness_of_breath    int64\n",
       "head_ache              int64\n",
       "corona_result          int64\n",
       "age_60_and_above       int64\n",
       "gender                 int64\n",
       "test_indication        int64\n",
       "dtype: object"
      ]
     },
     "execution_count": 32,
     "metadata": {},
     "output_type": "execute_result"
    }
   ],
   "source": [
    "data.dtypes"
   ]
  },
  {
   "cell_type": "code",
   "execution_count": 33,
   "metadata": {},
   "outputs": [
    {
     "data": {
      "text/plain": [
       "array([0, 1], dtype=int64)"
      ]
     },
     "execution_count": 33,
     "metadata": {},
     "output_type": "execute_result"
    }
   ],
   "source": [
    "data['corona_result'] = data['corona_result'].replace(2, 0)\n",
    "data['corona_result'].unique()"
   ]
  },
  {
   "attachments": {},
   "cell_type": "markdown",
   "metadata": {},
   "source": [
    "## Exploratory Data Analysis"
   ]
  },
  {
   "attachments": {},
   "cell_type": "markdown",
   "metadata": {},
   "source": [
    "Here we are performing EDA to gain insights and understanding of the data we are working with."
   ]
  },
  {
   "cell_type": "code",
   "execution_count": 34,
   "metadata": {},
   "outputs": [
    {
     "data": {
      "text/html": [
       "<div>\n",
       "<style scoped>\n",
       "    .dataframe tbody tr th:only-of-type {\n",
       "        vertical-align: middle;\n",
       "    }\n",
       "\n",
       "    .dataframe tbody tr th {\n",
       "        vertical-align: top;\n",
       "    }\n",
       "\n",
       "    .dataframe thead th {\n",
       "        text-align: right;\n",
       "    }\n",
       "</style>\n",
       "<table border=\"1\" class=\"dataframe\">\n",
       "  <thead>\n",
       "    <tr style=\"text-align: right;\">\n",
       "      <th></th>\n",
       "      <th>cough</th>\n",
       "      <th>fever</th>\n",
       "      <th>sore_throat</th>\n",
       "      <th>shortness_of_breath</th>\n",
       "      <th>head_ache</th>\n",
       "      <th>corona_result</th>\n",
       "      <th>age_60_and_above</th>\n",
       "      <th>gender</th>\n",
       "      <th>test_indication</th>\n",
       "    </tr>\n",
       "  </thead>\n",
       "  <tbody>\n",
       "    <tr>\n",
       "      <th>0</th>\n",
       "      <td>0</td>\n",
       "      <td>0</td>\n",
       "      <td>0</td>\n",
       "      <td>0</td>\n",
       "      <td>0</td>\n",
       "      <td>0</td>\n",
       "      <td>0</td>\n",
       "      <td>0</td>\n",
       "      <td>0</td>\n",
       "    </tr>\n",
       "    <tr>\n",
       "      <th>1</th>\n",
       "      <td>1</td>\n",
       "      <td>0</td>\n",
       "      <td>0</td>\n",
       "      <td>0</td>\n",
       "      <td>0</td>\n",
       "      <td>0</td>\n",
       "      <td>0</td>\n",
       "      <td>0</td>\n",
       "      <td>0</td>\n",
       "    </tr>\n",
       "    <tr>\n",
       "      <th>2</th>\n",
       "      <td>0</td>\n",
       "      <td>1</td>\n",
       "      <td>0</td>\n",
       "      <td>0</td>\n",
       "      <td>0</td>\n",
       "      <td>0</td>\n",
       "      <td>0</td>\n",
       "      <td>1</td>\n",
       "      <td>0</td>\n",
       "    </tr>\n",
       "    <tr>\n",
       "      <th>3</th>\n",
       "      <td>1</td>\n",
       "      <td>0</td>\n",
       "      <td>0</td>\n",
       "      <td>0</td>\n",
       "      <td>0</td>\n",
       "      <td>0</td>\n",
       "      <td>0</td>\n",
       "      <td>0</td>\n",
       "      <td>0</td>\n",
       "    </tr>\n",
       "    <tr>\n",
       "      <th>4</th>\n",
       "      <td>1</td>\n",
       "      <td>0</td>\n",
       "      <td>0</td>\n",
       "      <td>0</td>\n",
       "      <td>0</td>\n",
       "      <td>0</td>\n",
       "      <td>0</td>\n",
       "      <td>1</td>\n",
       "      <td>0</td>\n",
       "    </tr>\n",
       "  </tbody>\n",
       "</table>\n",
       "</div>"
      ],
      "text/plain": [
       "   cough  fever  sore_throat  shortness_of_breath  head_ache  corona_result  \\\n",
       "0      0      0            0                    0          0              0   \n",
       "1      1      0            0                    0          0              0   \n",
       "2      0      1            0                    0          0              0   \n",
       "3      1      0            0                    0          0              0   \n",
       "4      1      0            0                    0          0              0   \n",
       "\n",
       "   age_60_and_above  gender  test_indication  \n",
       "0                 0       0                0  \n",
       "1                 0       0                0  \n",
       "2                 0       1                0  \n",
       "3                 0       0                0  \n",
       "4                 0       1                0  "
      ]
     },
     "execution_count": 34,
     "metadata": {},
     "output_type": "execute_result"
    }
   ],
   "source": [
    "data.head()"
   ]
  },
  {
   "cell_type": "code",
   "execution_count": 35,
   "metadata": {},
   "outputs": [
    {
     "data": {
      "image/png": "[encoded data removed]",
      "text/plain": [
       "<Figure size 432x288 with 1 Axes>"
      ]
     },
     "metadata": {
      "needs_background": "light"
     },
     "output_type": "display_data"
    }
   ],
   "source": [
    "ax = (data['corona_result'].value_counts()*100.0 /len(data)).plot(kind='bar', stacked = True,rot = 0)\n",
    "ax.set_ylabel('% Count')\n",
    "ax.set_xlabel('Corona_Result')\n",
    "ax.set_ylabel('% Count')\n",
    "ax.set_title('Corona Result Distribution')\n",
    "\n",
    "# create a list to collect the plt.patches data\n",
    "totals = []\n",
    "\n",
    "# find the values and append to list\n",
    "for i in ax.patches:\n",
    "    totals.append(i.get_width())\n",
    "\n",
    "# set individual bar lables using above list\n",
    "total = sum(totals)\n",
    "\n",
    "for i in ax.patches:\n",
    "    # get_width pulls left or right; get_y pushes up or down\n",
    "    ax.text(i.get_x()+.15, i.get_height()-3.5, \\\n",
    "            str(round((i.get_height()/total), 1))+'%',\n",
    "            fontsize=12,\n",
    "            color='white',\n",
    "           weight = 'bold')"
   ]
  },
  {
   "cell_type": "code",
   "execution_count": 36,
   "metadata": {},
   "outputs": [
    {
     "data": {
      "text/plain": [
       "0    264119\n",
       "1     14729\n",
       "Name: corona_result, dtype: int64"
      ]
     },
     "execution_count": 36,
     "metadata": {},
     "output_type": "execute_result"
    }
   ],
   "source": [
    "# Counting Number of Class.\n",
    "dictribution = data[\"corona_result\"].value_counts()\n",
    "dictribution"
   ]
  },
  {
   "attachments": {},
   "cell_type": "markdown",
   "metadata": {},
   "source": [
    "We can see that distribution of class label is imbalanced in our dataset. There are 264119 records are negative and 14729 records of positives.We have 2 classes so its a binary class classififcation task. Now plotting this distribution in graphical form."
   ]
  },
  {
   "cell_type": "code",
   "execution_count": 37,
   "metadata": {},
   "outputs": [
    {
     "data": {
      "image/png": "[encoded data removed]",
      "text/plain": [
       "<Figure size 432x288 with 1 Axes>"
      ]
     },
     "metadata": {
      "needs_background": "light"
     },
     "output_type": "display_data"
    }
   ],
   "source": [
    "# Let's calculate the percentage of Gender of Patients.\n",
    "data['gender'].value_counts()\n",
    "\n",
    "#plot the bar graph of categories\n",
    "data['gender'].value_counts().plot.bar()\n",
    "plt.title(\"Gender Distribution in data\")\n",
    "plt.xlabel(\"Count of Persons\")\n",
    "plt.ylabel(\"Gender\")\n",
    "plt.show()"
   ]
  },
  {
   "cell_type": "code",
   "execution_count": 38,
   "metadata": {},
   "outputs": [
    {
     "data": {
      "image/png": "[encoded data removed]",
      "text/plain": [
       "<Figure size 864x432 with 1 Axes>"
      ]
     },
     "metadata": {
      "needs_background": "light"
     },
     "output_type": "display_data"
    }
   ],
   "source": [
    "# Fever graph\n",
    "import seaborn as sns\n",
    "sns.factorplot(data=data, x='fever', kind= 'count',size=6,aspect=2)\n",
    "plt.xlabel('Fever Ratio')\n",
    "plt.title(\"Fever graph\",fontsize=15)\n",
    "plt.show()"
   ]
  },
  {
   "cell_type": "code",
   "execution_count": 39,
   "metadata": {},
   "outputs": [
    {
     "data": {
      "image/png": "[encoded data removed]",
      "text/plain": [
       "<Figure size 864x432 with 1 Axes>"
      ]
     },
     "metadata": {
      "needs_background": "light"
     },
     "output_type": "display_data"
    }
   ],
   "source": [
    "# test indication graph\n",
    "import seaborn as sns\n",
    "sns.factorplot(data=data, x='test_indication', kind= 'count',size=6,aspect=2)\n",
    "plt.xlabel('Test indication ratio')\n",
    "plt.title(\"Test Indication graph\",fontsize=15)\n",
    "plt.show()"
   ]
  },
  {
   "attachments": {},
   "cell_type": "markdown",
   "metadata": {},
   "source": [
    "'Other': 0, 'Abroad': 1, 'Contact with confirmed' : 2"
   ]
  },
  {
   "cell_type": "code",
   "execution_count": 40,
   "metadata": {},
   "outputs": [
    {
     "data": {
      "image/png": "[encoded data removed]",
      "text/plain": [
       "<Figure size 1800x720 with 2 Axes>"
      ]
     },
     "metadata": {
      "needs_background": "light"
     },
     "output_type": "display_data"
    }
   ],
   "source": [
    "#Now lets try plotting the correlation heatmap\n",
    "\n",
    "plt.figure(figsize = (25,10))\n",
    "dataplot = sns.heatmap(data.corr(), cmap=\"YlGnBu\", annot=True)\n",
    "\n",
    "plt.show()"
   ]
  },
  {
   "attachments": {},
   "cell_type": "markdown",
   "metadata": {},
   "source": [
    "### Splitting Dataset into Train-Test sets with 70-30% Ratio"
   ]
  },
  {
   "cell_type": "code",
   "execution_count": 72,
   "metadata": {},
   "outputs": [],
   "source": [
    "X = data.loc[:, data.columns != 'corona_result']\n",
    "y = data[['corona_result']]"
   ]
  },
  {
   "cell_type": "code",
   "execution_count": 73,
   "metadata": {},
   "outputs": [
    {
     "name": "stdout",
     "output_type": "stream",
     "text": [
      "(195193, 8)\n",
      "(195193, 1)\n",
      "(83655, 8)\n",
      "(83655, 1)\n"
     ]
    }
   ],
   "source": [
    "from sklearn.model_selection import train_test_split\n",
    "trainX, testX, trainy, testy = train_test_split(X, y, test_size=0.3, random_state=2)\n",
    "print(trainX.shape)\n",
    "print(trainy.shape)\n",
    "print(testX.shape)\n",
    "print(testy.shape)"
   ]
  },
  {
   "cell_type": "code",
   "execution_count": 82,
   "metadata": {},
   "outputs": [
    {
     "data": {
      "text/html": [
       "<div>\n",
       "<style scoped>\n",
       "    .dataframe tbody tr th:only-of-type {\n",
       "        vertical-align: middle;\n",
       "    }\n",
       "\n",
       "    .dataframe tbody tr th {\n",
       "        vertical-align: top;\n",
       "    }\n",
       "\n",
       "    .dataframe thead th {\n",
       "        text-align: right;\n",
       "    }\n",
       "</style>\n",
       "<table border=\"1\" class=\"dataframe\">\n",
       "  <thead>\n",
       "    <tr style=\"text-align: right;\">\n",
       "      <th></th>\n",
       "      <th>cough</th>\n",
       "      <th>fever</th>\n",
       "      <th>sore_throat</th>\n",
       "      <th>shortness_of_breath</th>\n",
       "      <th>head_ache</th>\n",
       "      <th>age_60_and_above</th>\n",
       "      <th>gender</th>\n",
       "      <th>test_indication</th>\n",
       "    </tr>\n",
       "  </thead>\n",
       "  <tbody>\n",
       "    <tr>\n",
       "      <th>198020</th>\n",
       "      <td>0</td>\n",
       "      <td>0</td>\n",
       "      <td>0</td>\n",
       "      <td>0</td>\n",
       "      <td>0</td>\n",
       "      <td>0</td>\n",
       "      <td>3</td>\n",
       "      <td>0</td>\n",
       "    </tr>\n",
       "    <tr>\n",
       "      <th>43036</th>\n",
       "      <td>0</td>\n",
       "      <td>0</td>\n",
       "      <td>0</td>\n",
       "      <td>0</td>\n",
       "      <td>0</td>\n",
       "      <td>0</td>\n",
       "      <td>0</td>\n",
       "      <td>0</td>\n",
       "    </tr>\n",
       "    <tr>\n",
       "      <th>163420</th>\n",
       "      <td>0</td>\n",
       "      <td>0</td>\n",
       "      <td>0</td>\n",
       "      <td>0</td>\n",
       "      <td>0</td>\n",
       "      <td>0</td>\n",
       "      <td>1</td>\n",
       "      <td>0</td>\n",
       "    </tr>\n",
       "    <tr>\n",
       "      <th>30322</th>\n",
       "      <td>0</td>\n",
       "      <td>0</td>\n",
       "      <td>0</td>\n",
       "      <td>0</td>\n",
       "      <td>0</td>\n",
       "      <td>0</td>\n",
       "      <td>0</td>\n",
       "      <td>0</td>\n",
       "    </tr>\n",
       "    <tr>\n",
       "      <th>256523</th>\n",
       "      <td>1</td>\n",
       "      <td>0</td>\n",
       "      <td>0</td>\n",
       "      <td>0</td>\n",
       "      <td>0</td>\n",
       "      <td>1</td>\n",
       "      <td>1</td>\n",
       "      <td>0</td>\n",
       "    </tr>\n",
       "  </tbody>\n",
       "</table>\n",
       "</div>"
      ],
      "text/plain": [
       "        cough  fever  sore_throat  shortness_of_breath  head_ache  \\\n",
       "198020      0      0            0                    0          0   \n",
       "43036       0      0            0                    0          0   \n",
       "163420      0      0            0                    0          0   \n",
       "30322       0      0            0                    0          0   \n",
       "256523      1      0            0                    0          0   \n",
       "\n",
       "        age_60_and_above  gender  test_indication  \n",
       "198020                 0       3                0  \n",
       "43036                  0       0                0  \n",
       "163420                 0       1                0  \n",
       "30322                  0       0                0  \n",
       "256523                 1       1                0  "
      ]
     },
     "execution_count": 82,
     "metadata": {},
     "output_type": "execute_result"
    }
   ],
   "source": [
    "trainX.head()"
   ]
  },
  {
   "cell_type": "code",
   "execution_count": 74,
   "metadata": {},
   "outputs": [
    {
     "name": "stdout",
     "output_type": "stream",
     "text": [
      "Index(['cough', 'fever', 'sore_throat', 'shortness_of_breath', 'head_ache',\n",
      "       'age_60_and_above', 'gender', 'test_indication'],\n",
      "      dtype='object')\n"
     ]
    }
   ],
   "source": [
    "features = trainX.columns\n",
    "print(features)"
   ]
  },
  {
   "attachments": {},
   "cell_type": "markdown",
   "metadata": {},
   "source": [
    "## Applying Machine Learning Models"
   ]
  },
  {
   "attachments": {},
   "cell_type": "markdown",
   "metadata": {},
   "source": [
    "### Logistic Regression"
   ]
  },
  {
   "cell_type": "code",
   "execution_count": 44,
   "metadata": {},
   "outputs": [
    {
     "name": "stdout",
     "output_type": "stream",
     "text": [
      "[0.96009221 0.96034836 0.96019467 0.96065372 0.9599877  0.96295917\n",
      " 0.96039756 0.96270301 0.96203699 0.96152467]\n",
      "Accuracy Logistic Regression KFold with k=10: 96.11%\n",
      "[[183909   1044]\n",
      " [  6551   3689]]\n"
     ]
    },
    {
     "data": {
      "image/png": "[encoded data removed]",
      "text/plain": [
       "<Figure size 432x288 with 2 Axes>"
      ]
     },
     "metadata": {
      "needs_background": "light"
     },
     "output_type": "display_data"
    }
   ],
   "source": [
    "# K - FOLD Cross Validation.\n",
    "\n",
    "kfold = KFold(n_splits=10, random_state=100, shuffle=True)\n",
    "\n",
    "lr = LogisticRegression(solver='liblinear',random_state=2)\n",
    "results_kfold = cross_val_score(lr, trainX, trainy.values.ravel(), cv=10)\n",
    "print(results_kfold)\n",
    "print(\"Accuracy Logistic Regression KFold with k=10: %.2f%%\" % (results_kfold.mean()*100.0))\n",
    "\n",
    "\n",
    "pred = cross_val_predict(lr, trainX, trainy.values.ravel(), cv=10)\n",
    "conf_mat = confusion_matrix(trainy, pred)\n",
    "print(conf_mat)\n",
    "disp = ConfusionMatrixDisplay.from_predictions(trainy,pred)"
   ]
  },
  {
   "cell_type": "code",
   "execution_count": 45,
   "metadata": {},
   "outputs": [],
   "source": [
    "lr = LogisticRegression(solver = 'liblinear')\n",
    "lr.fit(trainX,trainy.values.ravel())\n",
    "y_pred = lr.predict(testX)"
   ]
  },
  {
   "cell_type": "code",
   "execution_count": 46,
   "metadata": {},
   "outputs": [
    {
     "name": "stdout",
     "output_type": "stream",
     "text": [
      "Confusion Matrix:\n",
      "[[78777   389]\n",
      " [ 2922  1567]]\n",
      "------------------------------------\n",
      "AUC Score: 0.6720808961717282\n",
      "------------------------------------\n",
      "Accuracy of Logistic Regression: 96.04207758053911 %\n",
      "------------------------------------\n",
      "Recall: 0.34907551793272446\n",
      "------------------------------------\n",
      "Precision: 0.8011247443762781\n",
      "------------------------------------\n",
      "Specificity: 0.9950862744107318\n",
      "------------------------------------\n",
      "Sensitivity: 0.34907551793272446\n",
      "------------------------------------\n",
      "Miss Rate (False Positive Rate): 0.00491372558926812\n",
      "------------------------------------\n",
      "Miss Rate (False Negative Rate): 0.6509244820672756\n",
      "              precision    recall  f1-score   support\n",
      "\n",
      "           0       0.96      1.00      0.98     79166\n",
      "           1       0.80      0.35      0.49      4489\n",
      "\n",
      "    accuracy                           0.96     83655\n",
      "   macro avg       0.88      0.67      0.73     83655\n",
      "weighted avg       0.96      0.96      0.95     83655\n",
      "\n"
     ]
    },
    {
     "data": {
      "text/plain": [
       "Text(0.5, 1.0, 'Contribution of features in Model Performance')"
      ]
     },
     "execution_count": 46,
     "metadata": {},
     "output_type": "execute_result"
    },
    {
     "data": {
      "image/png": "[encoded data removed]",
      "text/plain": [
       "<Figure size 432x288 with 1 Axes>"
      ]
     },
     "metadata": {
      "needs_background": "light"
     },
     "output_type": "display_data"
    },
    {
     "data": {
      "image/png": "[encoded data removed]",
      "text/plain": [
       "<Figure size 1080x360 with 1 Axes>"
      ]
     },
     "metadata": {
      "needs_background": "light"
     },
     "output_type": "display_data"
    }
   ],
   "source": [
    "from sklearn.metrics import confusion_matrix\n",
    "cm = confusion_matrix(testy,y_pred)\n",
    "print(\"Confusion Matrix:\")\n",
    "print(cm)\n",
    "print('------------------------------------')\n",
    "\n",
    "AUC_Score = roc_auc_score(testy,y_pred)\n",
    "print(\"AUC Score:\",AUC_Score)\n",
    "print('------------------------------------')\n",
    "\n",
    "\n",
    "accuracy = lr.score(testX, testy)\n",
    "print(\"Accuracy of Logistic Regression:\",accuracy*100,\"%\")\n",
    "print('------------------------------------')\n",
    "\n",
    "\n",
    "from sklearn.metrics import recall_score\n",
    "recall = recall_score(testy,y_pred)\n",
    "print(\"Recall:\",recall)\n",
    "print('------------------------------------')\n",
    "\n",
    "from sklearn.metrics import precision_score\n",
    "precision = precision_score(testy,y_pred)\n",
    "print(\"Precision:\",precision)\n",
    "print('------------------------------------')\n",
    "\n",
    "specificity = cm[0,0]/(cm[0,0]+cm[0,1])\n",
    "print(\"Specificity:\", specificity)\n",
    "print('------------------------------------')\n",
    "\n",
    "sensitivity = cm[1,1]/(cm[1,1]+cm[1,0])\n",
    "print(\"Sensitivity:\", sensitivity)\n",
    "\n",
    "print('------------------------------------')\n",
    "miss_rate = cm[0,1]/(cm[0,1]+cm[0,0])\n",
    "print(\"Miss Rate (False Positive Rate):\", miss_rate)\n",
    "\n",
    "print('------------------------------------')\n",
    "miss_rate_FNR = cm[1,0]/(cm[1,0]+cm[1,1])\n",
    "print(\"Miss Rate (False Negative Rate):\", miss_rate_FNR)\n",
    "\n",
    "from sklearn.metrics import classification_report\n",
    "print(classification_report(testy,y_pred))\n",
    "\n",
    "from sklearn import metrics\n",
    "miss_rate, sensitivity, thresholds = metrics.roc_curve(testy, y_pred)\n",
    "plt.plot(miss_rate, sensitivity)\n",
    "plt.xlim([0.0, 1.0])\n",
    "plt.ylim([0.0, 1.0])\n",
    "plt.title('ROC curve for classifier')\n",
    "plt.xlabel('False Positive Rate (1 - Specificity)')\n",
    "plt.ylabel('True Positive Rate (Sensitivity)')\n",
    "plt.grid(True)\n",
    "\n",
    "\n",
    "perm_importance = permutation_importance(lr, testX, testy)\n",
    "sorted_idx = perm_importance.importances_mean.argsort()\n",
    "plt.figure(figsize=(15,5))\n",
    "sns.barplot(y = features[sorted_idx], x = perm_importance.importances_mean[sorted_idx])\n",
    "plt.xlabel(\"Feature Importance\")\n",
    "plt.ylabel(\"Features\")\n",
    "plt.title(\"Contribution of features in Model Performance\")"
   ]
  },
  {
   "attachments": {},
   "cell_type": "markdown",
   "metadata": {},
   "source": [
    "### XGBoost Classifier"
   ]
  },
  {
   "cell_type": "code",
   "execution_count": 47,
   "metadata": {},
   "outputs": [
    {
     "name": "stdout",
     "output_type": "stream",
     "text": [
      "[0.96726434 0.96921107 0.96849385 0.96628926 0.96757006 0.96946565\n",
      " 0.96777499 0.9703366  0.96961935 0.96972181]\n",
      "Accuracy of XGBOOST KFold with k=10: 96.86%\n",
      "[[183384   1569]\n",
      " [  4604   5636]]\n"
     ]
    },
    {
     "data": {
      "image/png": "[encoded data removed]",
      "text/plain": [
       "<Figure size 432x288 with 2 Axes>"
      ]
     },
     "metadata": {
      "needs_background": "light"
     },
     "output_type": "display_data"
    }
   ],
   "source": [
    "# K - FOLD Cross Validation.\n",
    "\n",
    "kfold = KFold(n_splits=5, random_state=100, shuffle=True)\n",
    "\n",
    "xgb = XGBClassifier(learning_rate = 0.75, max_depth = 5)\n",
    "results_kfold = cross_val_score(xgb, trainX, trainy.values.ravel(), cv=10)\n",
    "print(results_kfold)\n",
    "print(\"Accuracy of XGBOOST KFold with k=10: %.2f%%\" % (results_kfold.mean()*100.0))\n",
    "\n",
    "\n",
    "pred = cross_val_predict(xgb, trainX, trainy.values.ravel(), cv=5)\n",
    "conf_mat = confusion_matrix(trainy, pred)\n",
    "print(conf_mat)\n",
    "disp = ConfusionMatrixDisplay.from_predictions(trainy,pred)"
   ]
  },
  {
   "cell_type": "code",
   "execution_count": 75,
   "metadata": {},
   "outputs": [],
   "source": [
    "xgb = XGBClassifier(learning_rate = 0.75, max_depth = 5)\n",
    "xgb.fit(trainX,trainy.values.ravel())\n",
    "y_pred = xgb.predict(testX)"
   ]
  },
  {
   "cell_type": "code",
   "execution_count": 83,
   "metadata": {},
   "outputs": [
    {
     "data": {
      "text/html": [
       "<div>\n",
       "<style scoped>\n",
       "    .dataframe tbody tr th:only-of-type {\n",
       "        vertical-align: middle;\n",
       "    }\n",
       "\n",
       "    .dataframe tbody tr th {\n",
       "        vertical-align: top;\n",
       "    }\n",
       "\n",
       "    .dataframe thead th {\n",
       "        text-align: right;\n",
       "    }\n",
       "</style>\n",
       "<table border=\"1\" class=\"dataframe\">\n",
       "  <thead>\n",
       "    <tr style=\"text-align: right;\">\n",
       "      <th></th>\n",
       "      <th>cough</th>\n",
       "      <th>fever</th>\n",
       "      <th>sore_throat</th>\n",
       "      <th>shortness_of_breath</th>\n",
       "      <th>head_ache</th>\n",
       "      <th>age_60_and_above</th>\n",
       "      <th>gender</th>\n",
       "      <th>test_indication</th>\n",
       "    </tr>\n",
       "  </thead>\n",
       "  <tbody>\n",
       "    <tr>\n",
       "      <th>198020</th>\n",
       "      <td>0</td>\n",
       "      <td>0</td>\n",
       "      <td>0</td>\n",
       "      <td>0</td>\n",
       "      <td>0</td>\n",
       "      <td>0</td>\n",
       "      <td>3</td>\n",
       "      <td>0</td>\n",
       "    </tr>\n",
       "    <tr>\n",
       "      <th>43036</th>\n",
       "      <td>0</td>\n",
       "      <td>0</td>\n",
       "      <td>0</td>\n",
       "      <td>0</td>\n",
       "      <td>0</td>\n",
       "      <td>0</td>\n",
       "      <td>0</td>\n",
       "      <td>0</td>\n",
       "    </tr>\n",
       "    <tr>\n",
       "      <th>163420</th>\n",
       "      <td>0</td>\n",
       "      <td>0</td>\n",
       "      <td>0</td>\n",
       "      <td>0</td>\n",
       "      <td>0</td>\n",
       "      <td>0</td>\n",
       "      <td>1</td>\n",
       "      <td>0</td>\n",
       "    </tr>\n",
       "    <tr>\n",
       "      <th>30322</th>\n",
       "      <td>0</td>\n",
       "      <td>0</td>\n",
       "      <td>0</td>\n",
       "      <td>0</td>\n",
       "      <td>0</td>\n",
       "      <td>0</td>\n",
       "      <td>0</td>\n",
       "      <td>0</td>\n",
       "    </tr>\n",
       "    <tr>\n",
       "      <th>256523</th>\n",
       "      <td>1</td>\n",
       "      <td>0</td>\n",
       "      <td>0</td>\n",
       "      <td>0</td>\n",
       "      <td>0</td>\n",
       "      <td>1</td>\n",
       "      <td>1</td>\n",
       "      <td>0</td>\n",
       "    </tr>\n",
       "  </tbody>\n",
       "</table>\n",
       "</div>"
      ],
      "text/plain": [
       "        cough  fever  sore_throat  shortness_of_breath  head_ache  \\\n",
       "198020      0      0            0                    0          0   \n",
       "43036       0      0            0                    0          0   \n",
       "163420      0      0            0                    0          0   \n",
       "30322       0      0            0                    0          0   \n",
       "256523      1      0            0                    0          0   \n",
       "\n",
       "        age_60_and_above  gender  test_indication  \n",
       "198020                 0       3                0  \n",
       "43036                  0       0                0  \n",
       "163420                 0       1                0  \n",
       "30322                  0       0                0  \n",
       "256523                 1       1                0  "
      ]
     },
     "execution_count": 83,
     "metadata": {},
     "output_type": "execute_result"
    }
   ],
   "source": [
    "trainX.head()"
   ]
  },
  {
   "cell_type": "code",
   "execution_count": 76,
   "metadata": {},
   "outputs": [
    {
     "name": "stdout",
     "output_type": "stream",
     "text": [
      "Confusion Matrix:\n",
      "[[78562   604]\n",
      " [ 2103  2386]]\n",
      "------------------------------------\n",
      "AUC Score: 0.7619459795298488\n",
      "------------------------------------\n",
      "Accuracy of XGBOOST: 96.76409061024445 %\n",
      "------------------------------------\n",
      "Recall: 0.5315214969926487\n",
      "------------------------------------\n",
      "Precision: 0.7979933110367893\n",
      "------------------------------------\n",
      "Specificity: 0.9923704620670489\n",
      "------------------------------------\n",
      "Sensitivity: 0.5315214969926487\n",
      "------------------------------------\n",
      "Miss Rate (False Positive Rate): 0.007629537932951015\n",
      "------------------------------------\n",
      "Miss Rate (False Negative Rate): 0.4684785030073513\n"
     ]
    },
    {
     "data": {
      "text/plain": [
       "Text(0.5, 1.0, 'Contribution of features in Model Performance')"
      ]
     },
     "execution_count": 76,
     "metadata": {},
     "output_type": "execute_result"
    },
    {
     "data": {
      "image/png": "[encoded data removed]",
      "text/plain": [
       "<Figure size 1080x360 with 1 Axes>"
      ]
     },
     "metadata": {
      "needs_background": "light"
     },
     "output_type": "display_data"
    }
   ],
   "source": [
    "from sklearn.metrics import confusion_matrix\n",
    "cm = confusion_matrix(testy,y_pred)\n",
    "print(\"Confusion Matrix:\")\n",
    "print(cm)\n",
    "print('------------------------------------')\n",
    "\n",
    "AUC_Score = roc_auc_score(testy,y_pred)\n",
    "print(\"AUC Score:\",AUC_Score)\n",
    "print('------------------------------------')\n",
    "\n",
    "\n",
    "accuracy = xgb.score(testX, testy)\n",
    "print(\"Accuracy of XGBOOST:\",accuracy*100,\"%\")\n",
    "print('------------------------------------')\n",
    "\n",
    "\n",
    "from sklearn.metrics import recall_score\n",
    "recall = recall_score(testy,y_pred)\n",
    "print(\"Recall:\",recall)\n",
    "print('------------------------------------')\n",
    "\n",
    "from sklearn.metrics import precision_score\n",
    "precision = precision_score(testy,y_pred)\n",
    "print(\"Precision:\",precision)\n",
    "print('------------------------------------')\n",
    "\n",
    "specificity = cm[0,0]/(cm[0,0]+cm[0,1])\n",
    "print(\"Specificity:\", specificity)\n",
    "print('------------------------------------')\n",
    "\n",
    "sensitivity = cm[1,1]/(cm[1,1]+cm[1,0])\n",
    "print(\"Sensitivity:\", sensitivity)\n",
    "\n",
    "print('------------------------------------')\n",
    "miss_rate = cm[0,1]/(cm[0,1]+cm[0,0])\n",
    "print(\"Miss Rate (False Positive Rate):\", miss_rate)\n",
    "\n",
    "print('------------------------------------')\n",
    "miss_rate_FNR = cm[1,0]/(cm[1,0]+cm[1,1])\n",
    "print(\"Miss Rate (False Negative Rate):\", miss_rate_FNR)\n",
    "\n",
    "\n",
    "perm_importance = permutation_importance(xgb, testX, testy)\n",
    "\n",
    "sorted_idx = perm_importance.importances_mean.argsort()\n",
    "plt.figure(figsize=(15,5))\n",
    "sns.barplot(y = features[sorted_idx], x = perm_importance.importances_mean[sorted_idx])\n",
    "plt.xlabel(\"Feature Importance\")\n",
    "plt.ylabel(\"Features\")\n",
    "plt.title(\"Contribution of features in Model Performance\")\n",
    "\n"
   ]
  },
  {
   "cell_type": "code",
   "execution_count": 80,
   "metadata": {},
   "outputs": [
    {
     "data": {
      "text/html": [
       "<div>\n",
       "<style scoped>\n",
       "    .dataframe tbody tr th:only-of-type {\n",
       "        vertical-align: middle;\n",
       "    }\n",
       "\n",
       "    .dataframe tbody tr th {\n",
       "        vertical-align: top;\n",
       "    }\n",
       "\n",
       "    .dataframe thead th {\n",
       "        text-align: right;\n",
       "    }\n",
       "</style>\n",
       "<table border=\"1\" class=\"dataframe\">\n",
       "  <thead>\n",
       "    <tr style=\"text-align: right;\">\n",
       "      <th></th>\n",
       "      <th>cough</th>\n",
       "      <th>fever</th>\n",
       "      <th>sore_throat</th>\n",
       "      <th>shortness_of_breath</th>\n",
       "      <th>head_ache</th>\n",
       "      <th>age_60_and_above</th>\n",
       "      <th>gender</th>\n",
       "      <th>test_indication</th>\n",
       "    </tr>\n",
       "  </thead>\n",
       "  <tbody>\n",
       "    <tr>\n",
       "      <th>33867</th>\n",
       "      <td>0</td>\n",
       "      <td>0</td>\n",
       "      <td>0</td>\n",
       "      <td>0</td>\n",
       "      <td>0</td>\n",
       "      <td>0</td>\n",
       "      <td>1</td>\n",
       "      <td>0</td>\n",
       "    </tr>\n",
       "    <tr>\n",
       "      <th>84434</th>\n",
       "      <td>1</td>\n",
       "      <td>0</td>\n",
       "      <td>0</td>\n",
       "      <td>0</td>\n",
       "      <td>0</td>\n",
       "      <td>0</td>\n",
       "      <td>1</td>\n",
       "      <td>0</td>\n",
       "    </tr>\n",
       "    <tr>\n",
       "      <th>95816</th>\n",
       "      <td>0</td>\n",
       "      <td>0</td>\n",
       "      <td>0</td>\n",
       "      <td>0</td>\n",
       "      <td>0</td>\n",
       "      <td>0</td>\n",
       "      <td>1</td>\n",
       "      <td>0</td>\n",
       "    </tr>\n",
       "    <tr>\n",
       "      <th>203245</th>\n",
       "      <td>0</td>\n",
       "      <td>0</td>\n",
       "      <td>0</td>\n",
       "      <td>0</td>\n",
       "      <td>0</td>\n",
       "      <td>0</td>\n",
       "      <td>1</td>\n",
       "      <td>0</td>\n",
       "    </tr>\n",
       "    <tr>\n",
       "      <th>100879</th>\n",
       "      <td>0</td>\n",
       "      <td>0</td>\n",
       "      <td>0</td>\n",
       "      <td>0</td>\n",
       "      <td>0</td>\n",
       "      <td>0</td>\n",
       "      <td>0</td>\n",
       "      <td>0</td>\n",
       "    </tr>\n",
       "  </tbody>\n",
       "</table>\n",
       "</div>"
      ],
      "text/plain": [
       "        cough  fever  sore_throat  shortness_of_breath  head_ache  \\\n",
       "33867       0      0            0                    0          0   \n",
       "84434       1      0            0                    0          0   \n",
       "95816       0      0            0                    0          0   \n",
       "203245      0      0            0                    0          0   \n",
       "100879      0      0            0                    0          0   \n",
       "\n",
       "        age_60_and_above  gender  test_indication  \n",
       "33867                  0       1                0  \n",
       "84434                  0       1                0  \n",
       "95816                  0       1                0  \n",
       "203245                 0       1                0  \n",
       "100879                 0       0                0  "
      ]
     },
     "execution_count": 80,
     "metadata": {},
     "output_type": "execute_result"
    }
   ],
   "source": [
    "trainX.tail()"
   ]
  },
  {
   "cell_type": "code",
   "execution_count": 77,
   "metadata": {},
   "outputs": [],
   "source": [
    "import pickle\n",
    "pickle_out = open(\"xgb.pkl\",\"wb\")\n",
    "pickle.dump(xgb, pickle_out)\n",
    "pickle_out.close()"
   ]
  },
  {
   "attachments": {},
   "cell_type": "markdown",
   "metadata": {},
   "source": [
    "### Decision Tree Classifier"
   ]
  },
  {
   "cell_type": "code",
   "execution_count": 50,
   "metadata": {},
   "outputs": [
    {
     "name": "stdout",
     "output_type": "stream",
     "text": [
      "[0.96716189 0.96890369 0.96839139 0.96623802 0.96751883 0.96936318\n",
      " 0.96762129 0.97043906 0.96987551 0.96997797]\n",
      "Accuracy of DECISION TREE KFold with k=10: 96.85%\n",
      "[[183431   1522]\n",
      " [  4681   5559]]\n"
     ]
    },
    {
     "data": {
      "image/png": "[encoded data removed]",
      "text/plain": [
       "<Figure size 432x288 with 2 Axes>"
      ]
     },
     "metadata": {
      "needs_background": "light"
     },
     "output_type": "display_data"
    }
   ],
   "source": [
    "# K - FOLD Cross Validation.\n",
    "\n",
    "kfold = KFold(n_splits=5, random_state=100, shuffle=True)\n",
    "\n",
    "DT = DecisionTreeClassifier(max_depth=200)\n",
    "results_kfold = cross_val_score(DT, trainX, trainy.values.ravel(), cv=10)\n",
    "print(results_kfold)\n",
    "print(\"Accuracy of DECISION TREE KFold with k=10: %.2f%%\" % (results_kfold.mean()*100.0))\n",
    "\n",
    "\n",
    "pred = cross_val_predict(DT, trainX, trainy.values.ravel(), cv=5)\n",
    "conf_mat = confusion_matrix(trainy, pred)\n",
    "print(conf_mat)\n",
    "disp = ConfusionMatrixDisplay.from_predictions(trainy,pred)"
   ]
  },
  {
   "cell_type": "code",
   "execution_count": 51,
   "metadata": {},
   "outputs": [],
   "source": [
    "DT = DecisionTreeClassifier(max_depth=125)\n",
    "DT.fit(trainX,trainy)\n",
    "y_pred = DT.predict(testX) "
   ]
  },
  {
   "cell_type": "code",
   "execution_count": 52,
   "metadata": {},
   "outputs": [
    {
     "name": "stdout",
     "output_type": "stream",
     "text": [
      "Confusion Matrix:\n",
      "[[78563   603]\n",
      " [ 2120  2369]]\n",
      "------------------------------------\n",
      "AUC Score: 0.7600587778853176\n",
      "------------------------------------\n",
      "Accuracy of Decision Tree: 96.74496443727213 %\n",
      "------------------------------------\n",
      "Recall: 0.5277344620182669\n",
      "------------------------------------\n",
      "Precision: 0.7971063257065949\n",
      "------------------------------------\n",
      "Specificity: 0.9923830937523684\n",
      "------------------------------------\n",
      "Sensitivity: 0.5277344620182669\n",
      "------------------------------------\n",
      "Miss Rate (False Positive Rate): 0.007616906247631559\n",
      "------------------------------------\n",
      "Miss Rate (False Negative Rate): 0.47226553798173315\n"
     ]
    },
    {
     "data": {
      "text/plain": [
       "Text(0.5, 1.0, 'Contribution of features in Model Performance')"
      ]
     },
     "execution_count": 52,
     "metadata": {},
     "output_type": "execute_result"
    },
    {
     "data": {
      "image/png": "[encoded data removed]",
      "text/plain": [
       "<Figure size 1080x360 with 1 Axes>"
      ]
     },
     "metadata": {
      "needs_background": "light"
     },
     "output_type": "display_data"
    }
   ],
   "source": [
    "from sklearn.metrics import confusion_matrix\n",
    "cm = confusion_matrix(testy,y_pred)\n",
    "print(\"Confusion Matrix:\")\n",
    "print(cm)\n",
    "print('------------------------------------')\n",
    "\n",
    "AUC_Score = roc_auc_score(testy,y_pred)\n",
    "print(\"AUC Score:\",AUC_Score)\n",
    "print('------------------------------------')\n",
    "\n",
    "\n",
    "accuracy = DT.score(testX, testy)\n",
    "print(\"Accuracy of Decision Tree:\",accuracy*100,\"%\")\n",
    "print('------------------------------------')\n",
    "\n",
    "\n",
    "from sklearn.metrics import recall_score\n",
    "recall = recall_score(testy,y_pred)\n",
    "print(\"Recall:\",recall)\n",
    "print('------------------------------------')\n",
    "\n",
    "from sklearn.metrics import precision_score\n",
    "precision = precision_score(testy,y_pred)\n",
    "print(\"Precision:\",precision)\n",
    "print('------------------------------------')\n",
    "\n",
    "specificity = cm[0,0]/(cm[0,0]+cm[0,1])\n",
    "print(\"Specificity:\", specificity)\n",
    "print('------------------------------------')\n",
    "\n",
    "sensitivity = cm[1,1]/(cm[1,1]+cm[1,0])\n",
    "print(\"Sensitivity:\", sensitivity)\n",
    "\n",
    "print('------------------------------------')\n",
    "miss_rate = cm[0,1]/(cm[0,1]+cm[0,0])\n",
    "print(\"Miss Rate (False Positive Rate):\", miss_rate)\n",
    "\n",
    "print('------------------------------------')\n",
    "miss_rate_FNR = cm[1,0]/(cm[1,0]+cm[1,1])\n",
    "print(\"Miss Rate (False Negative Rate):\", miss_rate_FNR)\n",
    "\n",
    "perm_importance = permutation_importance(DT, testX, testy)\n",
    "\n",
    "sorted_idx = perm_importance.importances_mean.argsort()\n",
    "plt.figure(figsize=(15,5))\n",
    "sns.barplot(y = features[sorted_idx], x = perm_importance.importances_mean[sorted_idx])\n",
    "plt.xlabel(\"Feature Importance\")\n",
    "plt.ylabel(\"Features\")\n",
    "plt.title(\"Contribution of features in Model Performance\")"
   ]
  },
  {
   "attachments": {},
   "cell_type": "markdown",
   "metadata": {},
   "source": [
    "### Random Forest Classifier"
   ]
  },
  {
   "cell_type": "code",
   "execution_count": 53,
   "metadata": {},
   "outputs": [
    {
     "name": "stdout",
     "output_type": "stream",
     "text": [
      "[0.96731557 0.96921107 0.96859631 0.96644295 0.96777499 0.96956811\n",
      " 0.96782622 0.97043906 0.96987551 0.96977304]\n",
      "Accuracy of Random Forest KFold with k=10: 96.87%\n",
      "[[183403   1550]\n",
      " [  4616   5624]]\n"
     ]
    },
    {
     "data": {
      "image/png": "[encoded data removed]",
      "text/plain": [
       "<Figure size 432x288 with 2 Axes>"
      ]
     },
     "metadata": {
      "needs_background": "light"
     },
     "output_type": "display_data"
    }
   ],
   "source": [
    "# K - FOLD Cross Validation.\n",
    "\n",
    "kfold = KFold(n_splits=5, random_state=100, shuffle=True)\n",
    "\n",
    "rf = RandomForestClassifier(max_depth=10,n_estimators = 120)\n",
    "results_kfold = cross_val_score(rf, trainX, trainy.values.ravel(), cv=10)\n",
    "print(results_kfold)\n",
    "print(\"Accuracy of Random Forest KFold with k=10: %.2f%%\" % (results_kfold.mean()*100.0))\n",
    "\n",
    "\n",
    "pred = cross_val_predict(rf, trainX, trainy.values.ravel(), cv=5)\n",
    "conf_mat = confusion_matrix(trainy, pred)\n",
    "print(conf_mat)\n",
    "disp = ConfusionMatrixDisplay.from_predictions(trainy,pred)"
   ]
  },
  {
   "cell_type": "code",
   "execution_count": 54,
   "metadata": {},
   "outputs": [],
   "source": [
    "rf = RandomForestClassifier(max_depth=10,n_estimators = 1200)\n",
    "rf.fit(trainX,trainy.values.ravel())\n",
    "y_pred = rf.predict(testX)"
   ]
  },
  {
   "cell_type": "code",
   "execution_count": 55,
   "metadata": {},
   "outputs": [
    {
     "name": "stdout",
     "output_type": "stream",
     "text": [
      "Confusion Matrix:\n",
      "[[78563   603]\n",
      " [ 2109  2380]]\n",
      "------------------------------------\n",
      "AUC Score: 0.7612839950829118\n",
      "------------------------------------\n",
      "Accuracy of Random Forest: 96.75811368119061 %\n",
      "------------------------------------\n",
      "Recall: 0.5301848964134551\n",
      "------------------------------------\n",
      "Precision: 0.7978545088836742\n",
      "------------------------------------\n",
      "Specificity: 0.9923830937523684\n",
      "------------------------------------\n",
      "Sensitivity: 0.5301848964134551\n",
      "------------------------------------\n",
      "Miss Rate (False Positive Rate): 0.007616906247631559\n",
      "------------------------------------\n",
      "Miss Rate (False Negative Rate): 0.4698151035865449\n",
      "              precision    recall  f1-score   support\n",
      "\n",
      "           0       0.97      0.99      0.98     79166\n",
      "           1       0.80      0.53      0.64      4489\n",
      "\n",
      "    accuracy                           0.97     83655\n",
      "   macro avg       0.89      0.76      0.81     83655\n",
      "weighted avg       0.96      0.97      0.96     83655\n",
      "\n"
     ]
    },
    {
     "data": {
      "image/png": "[encoded data removed]",
      "text/plain": [
       "<Figure size 432x288 with 1 Axes>"
      ]
     },
     "metadata": {
      "needs_background": "light"
     },
     "output_type": "display_data"
    }
   ],
   "source": [
    "from sklearn.metrics import confusion_matrix\n",
    "cm = confusion_matrix(testy,y_pred)\n",
    "print(\"Confusion Matrix:\")\n",
    "print(cm)\n",
    "print('------------------------------------')\n",
    "\n",
    "AUC_Score = roc_auc_score(testy,y_pred)\n",
    "print(\"AUC Score:\",AUC_Score)\n",
    "print('------------------------------------')\n",
    "\n",
    "\n",
    "accuracy = rf.score(testX, testy)\n",
    "print(\"Accuracy of Random Forest:\",accuracy*100,\"%\")\n",
    "print('------------------------------------')\n",
    "\n",
    "\n",
    "from sklearn.metrics import recall_score\n",
    "recall = recall_score(testy,y_pred)\n",
    "print(\"Recall:\",recall)\n",
    "print('------------------------------------')\n",
    "\n",
    "from sklearn.metrics import precision_score\n",
    "precision = precision_score(testy,y_pred)\n",
    "print(\"Precision:\",precision)\n",
    "print('------------------------------------')\n",
    "\n",
    "specificity = cm[0,0]/(cm[0,0]+cm[0,1])\n",
    "print(\"Specificity:\", specificity)\n",
    "print('------------------------------------')\n",
    "\n",
    "sensitivity = cm[1,1]/(cm[1,1]+cm[1,0])\n",
    "print(\"Sensitivity:\", sensitivity)\n",
    "\n",
    "print('------------------------------------')\n",
    "miss_rate = cm[0,1]/(cm[0,1]+cm[0,0])\n",
    "print(\"Miss Rate (False Positive Rate):\", miss_rate)\n",
    "\n",
    "print('------------------------------------')\n",
    "miss_rate_FNR = cm[1,0]/(cm[1,0]+cm[1,1])\n",
    "print(\"Miss Rate (False Negative Rate):\", miss_rate_FNR)\n",
    "\n",
    "\n",
    "print(classification_report(testy,y_pred))\n",
    "miss_rate, sensitivity, thresholds = metrics.roc_curve(testy, y_pred)\n",
    "plt.plot(miss_rate, sensitivity)\n",
    "plt.xlim([0.0, 1.0])\n",
    "plt.ylim([0.0, 1.0])\n",
    "plt.title('ROC curve for classifier')\n",
    "plt.xlabel('False Positive Rate (1 - Specificity)')\n",
    "plt.ylabel('True Positive Rate (Sensitivity)')\n",
    "plt.grid(True)"
   ]
  },
  {
   "attachments": {},
   "cell_type": "markdown",
   "metadata": {},
   "source": [
    "### Naive Bayes Classifier"
   ]
  },
  {
   "cell_type": "code",
   "execution_count": 56,
   "metadata": {},
   "outputs": [
    {
     "name": "stdout",
     "output_type": "stream",
     "text": [
      "[0.94492828 0.94795082 0.94533811 0.94338849 0.94743583 0.94671858\n",
      " 0.94482299 0.94635996 0.9457964  0.94825555]\n",
      "Accuracy of Naive Bayes KFold with k=10: 94.61%\n",
      "[[177970   6983]\n",
      " [  3538   6702]]\n"
     ]
    },
    {
     "data": {
      "image/png": "[encoded data removed]",
      "text/plain": [
       "<Figure size 432x288 with 2 Axes>"
      ]
     },
     "metadata": {
      "needs_background": "light"
     },
     "output_type": "display_data"
    }
   ],
   "source": [
    "# K - FOLD Cross Validation.\n",
    "\n",
    "kfold = KFold(n_splits=5, random_state=100, shuffle=True)\n",
    "\n",
    "NB = GaussianNB()\n",
    "results_kfold = cross_val_score(NB, trainX, trainy.values.ravel(), cv=10)\n",
    "print(results_kfold)\n",
    "print(\"Accuracy of Naive Bayes KFold with k=10: %.2f%%\" % (results_kfold.mean()*100.0))\n",
    "\n",
    "\n",
    "pred = cross_val_predict(NB, trainX, trainy.values.ravel(), cv=5)\n",
    "conf_mat = confusion_matrix(trainy, pred)\n",
    "print(conf_mat)\n",
    "disp = ConfusionMatrixDisplay.from_predictions(trainy,pred)"
   ]
  },
  {
   "cell_type": "code",
   "execution_count": 57,
   "metadata": {},
   "outputs": [],
   "source": [
    "NB = GaussianNB()\n",
    "NB.fit(trainX,trainy.values.ravel())\n",
    "y_pred = NB.predict(testX)"
   ]
  },
  {
   "cell_type": "code",
   "execution_count": 58,
   "metadata": {},
   "outputs": [
    {
     "name": "stdout",
     "output_type": "stream",
     "text": [
      "Confusion Matrix:\n",
      "[[76288  2878]\n",
      " [ 1594  2895]]\n",
      "------------------------------------\n",
      "AUC Score: 0.804277894555756\n",
      "------------------------------------\n",
      "Accuracy of Naive Bayes: 94.65423465423466 %\n",
      "------------------------------------\n",
      "Recall: 0.6449097794609044\n",
      "------------------------------------\n",
      "Precision: 0.5014723713840291\n",
      "------------------------------------\n",
      "Specificity: 0.9636460096506075\n",
      "------------------------------------\n",
      "Sensitivity: 0.6449097794609044\n",
      "------------------------------------\n",
      "Miss Rate (False Positive Rate): 0.036353990349392414\n",
      "------------------------------------\n",
      "Miss Rate (False Negative Rate): 0.35509022053909556\n"
     ]
    },
    {
     "data": {
      "text/plain": [
       "Text(0.5, 1.0, 'Contribution of features in Model Performance')"
      ]
     },
     "execution_count": 58,
     "metadata": {},
     "output_type": "execute_result"
    },
    {
     "data": {
      "image/png": "[encoded data removed]",
      "text/plain": [
       "<Figure size 1080x360 with 1 Axes>"
      ]
     },
     "metadata": {
      "needs_background": "light"
     },
     "output_type": "display_data"
    }
   ],
   "source": [
    "from sklearn.metrics import confusion_matrix\n",
    "cm = confusion_matrix(testy,y_pred)\n",
    "print(\"Confusion Matrix:\")\n",
    "print(cm)\n",
    "print('------------------------------------')\n",
    "\n",
    "AUC_Score = roc_auc_score(testy,y_pred)\n",
    "print(\"AUC Score:\",AUC_Score)\n",
    "print('------------------------------------')\n",
    "\n",
    "\n",
    "accuracy = NB.score(testX, testy)\n",
    "print(\"Accuracy of Naive Bayes:\",accuracy*100,\"%\")\n",
    "print('------------------------------------')\n",
    "\n",
    "\n",
    "from sklearn.metrics import recall_score\n",
    "recall = recall_score(testy,y_pred)\n",
    "print(\"Recall:\",recall)\n",
    "print('------------------------------------')\n",
    "\n",
    "from sklearn.metrics import precision_score\n",
    "precision = precision_score(testy,y_pred)\n",
    "print(\"Precision:\",precision)\n",
    "print('------------------------------------')\n",
    "\n",
    "specificity = cm[0,0]/(cm[0,0]+cm[0,1])\n",
    "print(\"Specificity:\", specificity)\n",
    "print('------------------------------------')\n",
    "\n",
    "sensitivity = cm[1,1]/(cm[1,1]+cm[1,0])\n",
    "print(\"Sensitivity:\", sensitivity)\n",
    "\n",
    "print('------------------------------------')\n",
    "miss_rate = cm[0,1]/(cm[0,1]+cm[0,0])\n",
    "print(\"Miss Rate (False Positive Rate):\", miss_rate)\n",
    "\n",
    "print('------------------------------------')\n",
    "miss_rate_FNR = cm[1,0]/(cm[1,0]+cm[1,1])\n",
    "print(\"Miss Rate (False Negative Rate):\", miss_rate_FNR)\n",
    "\n",
    "\n",
    "perm_importance = permutation_importance(NB, testX, testy)\n",
    "\n",
    "sorted_idx = perm_importance.importances_mean.argsort()\n",
    "plt.figure(figsize=(15,5))\n",
    "sns.barplot(y = features[sorted_idx], x = perm_importance.importances_mean[sorted_idx])\n",
    "plt.xlabel(\"Feature Importance\")\n",
    "plt.ylabel(\"Features\")\n",
    "plt.title(\"Contribution of features in Model Performance\")"
   ]
  },
  {
   "attachments": {},
   "cell_type": "markdown",
   "metadata": {},
   "source": [
    "### Gradient Boosting Classifier"
   ]
  },
  {
   "cell_type": "code",
   "execution_count": 59,
   "metadata": {},
   "outputs": [
    {
     "name": "stdout",
     "output_type": "stream",
     "text": [
      "[0.9661373  0.96849385 0.96731557 0.9658794  0.96700651 0.9689021\n",
      " 0.96762129 0.96961935 0.96910702 0.9689021 ]\n",
      "Accuracy of Gradient Boosting KFold with k=10: 96.79%\n",
      "[[183437   1516]\n",
      " [  4773   5467]]\n"
     ]
    },
    {
     "data": {
      "image/png": "[encoded data removed]",
      "text/plain": [
       "<Figure size 432x288 with 2 Axes>"
      ]
     },
     "metadata": {
      "needs_background": "light"
     },
     "output_type": "display_data"
    }
   ],
   "source": [
    "# K - FOLD Cross Validation.\n",
    "\n",
    "kfold = KFold(n_splits=5, random_state=100, shuffle=True)\n",
    "\n",
    "gb = GradientBoostingClassifier(learning_rate=0.1, max_depth=3, n_estimators=40)\n",
    "results_kfold = cross_val_score(gb, trainX, trainy.values.ravel(), cv=10)\n",
    "print(results_kfold)\n",
    "print(\"Accuracy of Gradient Boosting KFold with k=10: %.2f%%\" % (results_kfold.mean()*100.0))\n",
    "\n",
    "\n",
    "pred = cross_val_predict(gb, trainX, trainy.values.ravel(), cv=5)\n",
    "conf_mat = confusion_matrix(trainy, pred)\n",
    "print(conf_mat)\n",
    "disp = ConfusionMatrixDisplay.from_predictions(trainy,pred)"
   ]
  },
  {
   "cell_type": "code",
   "execution_count": 60,
   "metadata": {},
   "outputs": [],
   "source": [
    "gb = GradientBoostingClassifier(learning_rate=0.01, max_depth=5, n_estimators=400)\n",
    "gb.fit(trainX,trainy.values.ravel())\n",
    "y_pred = gb.predict(testX)"
   ]
  },
  {
   "cell_type": "code",
   "execution_count": 61,
   "metadata": {},
   "outputs": [
    {
     "name": "stdout",
     "output_type": "stream",
     "text": [
      "Confusion Matrix:\n",
      "[[78592   574]\n",
      " [ 2145  2344]]\n",
      "------------------------------------\n",
      "AUC Score: 0.7574573527824632\n",
      "------------------------------------\n",
      "Accuracy of Gradient Bossting: 96.74974598051521 %\n",
      "------------------------------------\n",
      "Recall: 0.5221652929382936\n",
      "------------------------------------\n",
      "Precision: 0.8032899246058944\n",
      "------------------------------------\n",
      "Specificity: 0.9927494126266326\n",
      "------------------------------------\n",
      "Sensitivity: 0.5221652929382936\n",
      "------------------------------------\n",
      "Miss Rate (False Positive Rate): 0.007250587373367355\n",
      "------------------------------------\n",
      "Miss Rate (False Negative Rate): 0.4778347070617064\n",
      "              precision    recall  f1-score   support\n",
      "\n",
      "           0       0.97      0.99      0.98     79166\n",
      "           1       0.80      0.52      0.63      4489\n",
      "\n",
      "    accuracy                           0.97     83655\n",
      "   macro avg       0.89      0.76      0.81     83655\n",
      "weighted avg       0.96      0.97      0.96     83655\n",
      "\n"
     ]
    },
    {
     "data": {
      "text/plain": [
       "Text(0.5, 1.0, 'Contribution of features in Model Performance')"
      ]
     },
     "execution_count": 61,
     "metadata": {},
     "output_type": "execute_result"
    },
    {
     "data": {
      "image/png": "[encoded data removed]",
      "text/plain": [
       "<Figure size 1080x360 with 1 Axes>"
      ]
     },
     "metadata": {
      "needs_background": "light"
     },
     "output_type": "display_data"
    }
   ],
   "source": [
    "from sklearn.metrics import confusion_matrix\n",
    "cm = confusion_matrix(testy,y_pred)\n",
    "print(\"Confusion Matrix:\")\n",
    "print(cm)\n",
    "print('------------------------------------')\n",
    "\n",
    "AUC_Score = roc_auc_score(testy,y_pred)\n",
    "print(\"AUC Score:\",AUC_Score)\n",
    "print('------------------------------------')\n",
    "\n",
    "\n",
    "accuracy = gb.score(testX, testy)\n",
    "print(\"Accuracy of Gradient Bossting:\",accuracy*100,\"%\")\n",
    "print('------------------------------------')\n",
    "\n",
    "\n",
    "from sklearn.metrics import recall_score\n",
    "recall = recall_score(testy,y_pred)\n",
    "print(\"Recall:\",recall)\n",
    "print('------------------------------------')\n",
    "\n",
    "from sklearn.metrics import precision_score\n",
    "precision = precision_score(testy,y_pred)\n",
    "print(\"Precision:\",precision)\n",
    "print('------------------------------------')\n",
    "\n",
    "specificity = cm[0,0]/(cm[0,0]+cm[0,1])\n",
    "print(\"Specificity:\", specificity)\n",
    "print('------------------------------------')\n",
    "\n",
    "sensitivity = cm[1,1]/(cm[1,1]+cm[1,0])\n",
    "print(\"Sensitivity:\", sensitivity)\n",
    "\n",
    "print('------------------------------------')\n",
    "miss_rate = cm[0,1]/(cm[0,1]+cm[0,0])\n",
    "print(\"Miss Rate (False Positive Rate):\", miss_rate)\n",
    "\n",
    "print('------------------------------------')\n",
    "miss_rate_FNR = cm[1,0]/(cm[1,0]+cm[1,1])\n",
    "print(\"Miss Rate (False Negative Rate):\", miss_rate_FNR)\n",
    "\n",
    "print(classification_report(testy,y_pred))\n",
    "\n",
    "perm_importance = permutation_importance(gb, testX, testy)\n",
    "\n",
    "sorted_idx = perm_importance.importances_mean.argsort()\n",
    "plt.figure(figsize=(15,5))\n",
    "sns.barplot(y = features[sorted_idx], x = perm_importance.importances_mean[sorted_idx])\n",
    "plt.xlabel(\"Feature Importance\")\n",
    "plt.ylabel(\"Features\")\n",
    "plt.title(\"Contribution of features in Model Performance\")"
   ]
  },
  {
   "attachments": {},
   "cell_type": "markdown",
   "metadata": {},
   "source": [
    "### Voting Classifier (Ensemble Models) - Best Performing Model"
   ]
  },
  {
   "cell_type": "code",
   "execution_count": 62,
   "metadata": {},
   "outputs": [],
   "source": [
    "r0 = GradientBoostingClassifier(learning_rate = 0.01,max_depth=5,n_estimators=400)\n",
    "r1 = RandomForestClassifier(max_depth=10,n_estimators = 1200)\n",
    "r2 = XGBClassifier(learning_rate = 0.85, max_depth = 2)\n",
    "r3 = GaussianNB()\n",
    "\n",
    "# In soft voting, every individual classifier provides a probability value that a specific data point belongs to a particular target class\n",
    "voting = VotingClassifier([('gb1', r0),('gb2', r1),('gb3', r2),('gb4', r3)], voting='soft')\n",
    "voting.fit(trainX,trainy.values.ravel())\n",
    "y_pred_voting = voting.predict(testX)"
   ]
  },
  {
   "cell_type": "code",
   "execution_count": 63,
   "metadata": {},
   "outputs": [
    {
     "name": "stdout",
     "output_type": "stream",
     "text": [
      "Confusion Matrix:\n",
      "[[78153  1013]\n",
      " [ 1716  2773]]\n",
      "------------------------------------\n",
      "AUC Score: 0.8024681685610133\n",
      "------------------------------------\n",
      "Accuracy of Voting Classifier: 96.73779212240751 %\n",
      "------------------------------------\n",
      "Recall: 0.6177322343506348\n",
      "------------------------------------\n",
      "Precision: 0.7324352879027998\n",
      "------------------------------------\n",
      "Specificity: 0.9872041027713918\n",
      "------------------------------------\n",
      "Sensitivity: 0.6177322343506348\n",
      "------------------------------------\n",
      "Miss Rate (False Positive Rate): 0.01279589722860824\n",
      "------------------------------------\n",
      "Miss Rate (False Negative Rate): 0.3822677656493651\n"
     ]
    }
   ],
   "source": [
    "from sklearn.metrics import confusion_matrix\n",
    "cm = confusion_matrix(testy,y_pred_voting)\n",
    "print(\"Confusion Matrix:\")\n",
    "print(cm)\n",
    "print('------------------------------------')\n",
    "\n",
    "AUC_Score = roc_auc_score(testy,y_pred_voting)\n",
    "print(\"AUC Score:\",AUC_Score)\n",
    "print('------------------------------------')\n",
    "\n",
    "\n",
    "accuracy = voting.score(testX, testy)\n",
    "print(\"Accuracy of Voting Classifier:\",accuracy*100,\"%\")\n",
    "print('------------------------------------')\n",
    "\n",
    "\n",
    "from sklearn.metrics import recall_score\n",
    "recall = recall_score(testy,y_pred_voting)\n",
    "print(\"Recall:\",recall)\n",
    "print('------------------------------------')\n",
    "\n",
    "from sklearn.metrics import precision_score\n",
    "precision = precision_score(testy,y_pred_voting)\n",
    "print(\"Precision:\",precision)\n",
    "print('------------------------------------')\n",
    "\n",
    "specificity = cm[0,0]/(cm[0,0]+cm[0,1])\n",
    "print(\"Specificity:\", specificity)\n",
    "print('------------------------------------')\n",
    "\n",
    "sensitivity = cm[1,1]/(cm[1,1]+cm[1,0])\n",
    "print(\"Sensitivity:\", sensitivity)\n",
    "\n",
    "print('------------------------------------')\n",
    "miss_rate = cm[0,1]/(cm[0,1]+cm[0,0])\n",
    "print(\"Miss Rate (False Positive Rate):\", miss_rate)\n",
    "\n",
    "print('------------------------------------')\n",
    "miss_rate_FNR = cm[1,0]/(cm[1,0]+cm[1,1])\n",
    "print(\"Miss Rate (False Negative Rate):\", miss_rate_FNR)\n",
    "\n"
   ]
  },
  {
   "attachments": {},
   "cell_type": "markdown",
   "metadata": {},
   "source": [
    "### Saving Best Model"
   ]
  },
  {
   "cell_type": "code",
   "execution_count": 64,
   "metadata": {},
   "outputs": [],
   "source": [
    "import pickle\n",
    "pickle_out = open(\"voting.pkl\",\"wb\")\n",
    "pickle.dump(voting, pickle_out)\n",
    "pickle_out.close()"
   ]
  },
  {
   "attachments": {},
   "cell_type": "markdown",
   "metadata": {},
   "source": [
    "## Feature Selection Using Corellation Matrix"
   ]
  },
  {
   "cell_type": "code",
   "execution_count": 65,
   "metadata": {},
   "outputs": [
    {
     "data": {
      "image/png": "[encoded data removed]",
      "text/plain": [
       "<Figure size 1800x720 with 2 Axes>"
      ]
     },
     "metadata": {
      "needs_background": "light"
     },
     "output_type": "display_data"
    }
   ],
   "source": [
    "#Now lets try plotting the correlation heatmap\n",
    "\n",
    "plt.figure(figsize = (25,10))\n",
    "dataplot = sns.heatmap(data.corr(), cmap=\"YlGnBu\", annot=True)\n",
    "\n",
    "plt.show()"
   ]
  },
  {
   "cell_type": "code",
   "execution_count": 66,
   "metadata": {},
   "outputs": [],
   "source": [
    "X = data[['test_indication','head_ache','shortness_of_breath','sore_throat','fever']]\n",
    "y = data[['corona_result']]"
   ]
  },
  {
   "cell_type": "code",
   "execution_count": 67,
   "metadata": {},
   "outputs": [
    {
     "name": "stdout",
     "output_type": "stream",
     "text": [
      "(195193, 5)\n",
      "(195193, 1)\n",
      "(83655, 5)\n",
      "(83655, 1)\n"
     ]
    }
   ],
   "source": [
    "from sklearn.model_selection import train_test_split\n",
    "trainX, testX, trainy, testy = train_test_split(X, y, test_size=0.3, random_state=2)\n",
    "print(trainX.shape)\n",
    "print(trainy.shape)\n",
    "print(testX.shape)\n",
    "print(testy.shape)"
   ]
  },
  {
   "cell_type": "code",
   "execution_count": 68,
   "metadata": {},
   "outputs": [
    {
     "name": "stdout",
     "output_type": "stream",
     "text": [
      "Index(['test_indication', 'head_ache', 'shortness_of_breath', 'sore_throat',\n",
      "       'fever'],\n",
      "      dtype='object')\n"
     ]
    }
   ],
   "source": [
    "features = trainX.columns\n",
    "print(features)"
   ]
  },
  {
   "attachments": {},
   "cell_type": "markdown",
   "metadata": {},
   "source": [
    "## Applying Machine Learning Algorithm After Feature Selection"
   ]
  },
  {
   "cell_type": "code",
   "execution_count": 69,
   "metadata": {},
   "outputs": [
    {
     "name": "stdout",
     "output_type": "stream",
     "text": [
      "Random Forest Accuracy: 0.9662423047038432\n",
      "AUC Score: 0.7574573527824632\n",
      "------------------------------------------------------------\n",
      "Decision Tree Accuracy: 0.9662183969876278\n",
      "------------------------------------------------------------\n",
      "XGBoost Accuracy: 0.9662183969876278\n",
      "------------------------------------------------------------\n",
      "Gradient Boosting Accuracy: 0.9659793198254737\n",
      "------------------------------------------------------------\n",
      "KNN Accuracy: 96.62183969876278\n"
     ]
    }
   ],
   "source": [
    "# Random Forest Classifier\n",
    "rf = RandomForestClassifier(max_depth=10,n_estimators = 400)\n",
    "rf.fit(trainX, trainy)\n",
    "y_pred_rf = rf.predict(testX)\n",
    "rf_acc = accuracy_score(testy, y_pred_rf)\n",
    "print(\"Random Forest Accuracy:\", rf_acc)\n",
    "AUC_Score = roc_auc_score(testy,y_pred)\n",
    "print(\"AUC Score:\",AUC_Score)\n",
    "\n",
    "print('------------------------------------------------------------')\n",
    "\n",
    "# Decision Tree Classifier\n",
    "dt = DecisionTreeClassifier(max_depth=8, max_features='auto')\n",
    "dt.fit(trainX, trainy)\n",
    "y_pred_dt = dt.predict(testX)\n",
    "dt_acc = accuracy_score(testy, y_pred_dt)\n",
    "print(\"Decision Tree Accuracy:\", dt_acc)\n",
    "\n",
    "\n",
    "print('------------------------------------------------------------')\n",
    "\n",
    "# XGBoost Classifier\n",
    "xgb = XGBClassifier(learning_rate = 0.01, max_depth = 5)\n",
    "xgb.fit(trainX, trainy)\n",
    "y_pred_xgb = xgb.predict(testX)\n",
    "xgb_acc = accuracy_score(testy, y_pred_xgb)\n",
    "print(\"XGBoost Accuracy:\", xgb_acc)\n",
    "\n",
    "\n",
    "print('------------------------------------------------------------')\n",
    "\n",
    "# Gradient Boosting Classifier\n",
    "gb = GradientBoostingClassifier(learning_rate=0.01, max_depth=4, n_estimators=250)\n",
    "gb.fit(trainX, trainy)\n",
    "y_pred_gb = gb.predict(testX)\n",
    "gb_acc = accuracy_score(testy, y_pred_gb)\n",
    "print(\"Gradient Boosting Accuracy:\", gb_acc)\n",
    "\n",
    "print('------------------------------------------------------------')\n",
    "\n",
    "# KNN Classifier\n",
    "knn = KNeighborsClassifier(n_neighbors=45)\n",
    "knn.fit(trainX, trainy)\n",
    "y_pred_knn = knn.predict(testX)\n",
    "knn_acc = accuracy_score(testy, y_pred_knn)\n",
    "print(\"KNN Accuracy:\", knn_acc* 100)\n"
   ]
  },
  {
   "cell_type": "code",
   "execution_count": 70,
   "metadata": {},
   "outputs": [],
   "source": [
    "r0 = GradientBoostingClassifier(learning_rate = 0.01,max_depth=5,n_estimators=400)\n",
    "r1 = RandomForestClassifier(max_depth=10,n_estimators = 1200)\n",
    "r2 = XGBClassifier(learning_rate = 0.85, max_depth = 2)\n",
    "r3 = GaussianNB()\n",
    "\n",
    "# In soft voting, every individual classifier provides a probability value that a specific data point belongs to a particular target class\n",
    "voting = VotingClassifier([('gb1', r0),('gb2', r1),('gb3', r2),('gb4', r3)], voting='soft')\n",
    "voting.fit(trainX,trainy.values.ravel())\n",
    "y_pred_voting = voting.predict(testX)"
   ]
  },
  {
   "cell_type": "code",
   "execution_count": 71,
   "metadata": {},
   "outputs": [
    {
     "name": "stdout",
     "output_type": "stream",
     "text": [
      "Accuracy of Voting Classifier: 96.60749506903353 %\n"
     ]
    }
   ],
   "source": [
    "accuracy = voting.score(testX, testy)\n",
    "print(\"Accuracy of Voting Classifier:\",accuracy*100,\"%\")"
   ]
  },
  {
   "attachments": {},
   "cell_type": "markdown",
   "metadata": {},
   "source": [
    "## Conclusion"
   ]
  },
  {
   "attachments": {},
   "cell_type": "markdown",
   "metadata": {},
   "source": [
    "So after applying different models of machine learning and performing feature engineering we have concluded that all the features in the datset is positively correlated with the target attribute. We are getting our best which is Voting Classifier with full 8 features.\n",
    "\n",
    "After feature selection and selecting sub set of features is not much impacting the results."
   ]
  }
 ],
 "metadata": {
  "kernelspec": {
   "display_name": "Python 3",
   "language": "python",
   "name": "python3"
  },
  "language_info": {
   "codemirror_mode": {
    "name": "ipython",
    "version": 3
   },
   "file_extension": ".py",
   "mimetype": "text/x-python",
   "name": "python",
   "nbconvert_exporter": "python",
   "pygments_lexer": "ipython3",
   "version": "3.9.7"
  },
  "orig_nbformat": 4,
  "vscode": {
   "interpreter": {
    "hash": "95f57ecaf1e4684a97728584cbdcdcfb0a14de4fde6afb1e55592db96a99a5c0"
   }
  }
 },
 "nbformat": 4,
 "nbformat_minor": 2
}
